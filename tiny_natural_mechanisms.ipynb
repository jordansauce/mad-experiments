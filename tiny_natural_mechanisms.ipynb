{
 "cells": [
  {
   "cell_type": "markdown",
   "metadata": {},
   "source": [
    "# Mechanistic Anomaly detection methods on the \"tiny natural mechanisms\" task\n",
    "## Setup"
   ]
  },
  {
   "cell_type": "code",
   "execution_count": 1,
   "metadata": {},
   "outputs": [],
   "source": [
    "%load_ext autoreload\n",
    "%autoreload 2"
   ]
  },
  {
   "cell_type": "code",
   "execution_count": 46,
   "metadata": {},
   "outputs": [
    {
     "name": "stdout",
     "output_type": "stream",
     "text": [
      "device = cuda\n"
     ]
    }
   ],
   "source": [
    "import json\n",
    "from copy import deepcopy\n",
    "\n",
    "import blobfile as bf\n",
    "import torch\n",
    "from cupbearer import data, detectors, models, scripts, tasks, utils\n",
    "from IPython.display import Markdown, display\n",
    "from torch import nn\n",
    "from torch.utils.data import Subset\n",
    "from transformer_lens import HookedTransformer\n",
    "from functools import partial\n",
    "device = \"cuda\" if torch.cuda.is_available() else \"mps\" if torch.backends.mps.is_available() else \"cpu\"\n",
    "print(f'device = {device}')"
   ]
  },
  {
   "cell_type": "code",
   "execution_count": 3,
   "metadata": {},
   "outputs": [],
   "source": [
    "def get_activation_at_last_token(\n",
    "    activation: torch.Tensor, inputs: list[list[int]], name: str\n",
    "):\n",
    "    if activation.ndim == 3:\n",
    "        # Residual stream or equivalent, shape is (batch, seq, hidden)\n",
    "        return activation[:, -1, :]\n",
    "    elif activation.ndim == 4 and activation.shape[-1] == activation.shape[-2]:\n",
    "        # Attention, shape is (batch, num_heads, query, key)\n",
    "        # TODO: this could also be Q/K/V if n_heads happens to be head_dim\n",
    "        return activation[:, :, -1, :].reshape(activation.shape[0], -1)\n",
    "    elif activation.ndim == 4:\n",
    "        # Query/key/value, shape is (batch, seq, num_heads, hidden)\n",
    "        return activation[:, -1, :, :].reshape(activation.shape[0], -1)\n",
    "    else:\n",
    "        raise ValueError(f\"Unexpected activation shape: {activation.shape}\")"
   ]
  },
  {
   "cell_type": "markdown",
   "metadata": {},
   "source": [
    "# Load the tiny natural mechanisms task & model"
   ]
  },
  {
   "cell_type": "code",
   "execution_count": 4,
   "metadata": {},
   "outputs": [
    {
     "name": "stderr",
     "output_type": "stream",
     "text": [
      "/home/jordan/miniconda3/envs/MAD/lib/python3.10/site-packages/transformer_lens/utils.py:62: FutureWarning: You are using `torch.load` with `weights_only=False` (the current default value), which uses the default pickle module implicitly. It is possible to construct malicious pickle data which will execute arbitrary code during unpickling (See https://github.com/pytorch/pytorch/blob/main/SECURITY.md#untrusted-models for more details). In a future release, the default value for `weights_only` will be flipped to `True`. This limits the functions that could be executed during unpickling. Arbitrary objects will no longer be allowed to be loaded via this mode unless they are explicitly allowlisted by the user via `torch.serialization.add_safe_globals`. We recommend you start setting `weights_only=True` for any use case where you don't have full control of the loaded file. Please open an issue on GitHub for any issues related to this experimental feature.\n",
      "  return torch.load(file_path, map_location=\"cpu\")\n",
      "/home/jordan/miniconda3/envs/MAD/lib/python3.10/site-packages/transformers/tokenization_utils_base.py:1601: FutureWarning: `clean_up_tokenization_spaces` was not set. It will be set to `True` by default. This behavior will be depracted in transformers v4.45, and will be then set to `False` by default. For more details check this issue: https://github.com/huggingface/transformers/issues/31884\n",
      "  warnings.warn(\n"
     ]
    },
    {
     "name": "stdout",
     "output_type": "stream",
     "text": [
      "Loaded pretrained model attn-only-1l into HookedTransformer\n",
      "Moving model to device:  cuda\n"
     ]
    },
    {
     "name": "stderr",
     "output_type": "stream",
     "text": [
      "/mnt/c/Users/nadro/Documents/AI_safety/CHAI/MAD_code/cupbearer/src/cupbearer/tasks/tiny_natural_mechanisms.py:115: FutureWarning: You are using `torch.load` with `weights_only=False` (the current default value), which uses the default pickle module implicitly. It is possible to construct malicious pickle data which will execute arbitrary code during unpickling (See https://github.com/pytorch/pytorch/blob/main/SECURITY.md#untrusted-models for more details). In a future release, the default value for `weights_only` will be flipped to `True`. This limits the functions that could be executed during unpickling. Arbitrary objects will no longer be allowed to be loaded via this mode unless they are explicitly allowlisted by the user via `torch.serialization.add_safe_globals`. We recommend you start setting `weights_only=True` for any use case where you don't have full control of the loaded file. Please open an issue on GitHub for any issues related to this experimental feature.\n",
      "  state_dict = torch.load(cache_path, map_location=device)\n"
     ]
    },
    {
     "name": "stdout",
     "output_type": "stream",
     "text": [
      "Moving model to device:  cuda\n",
      "\n",
      "embed\n",
      "hook_embed\n",
      "pos_embed\n",
      "hook_pos_embed\n",
      "blocks\n",
      "blocks.0\n",
      "blocks.0.ln1\n",
      "blocks.0.ln1.hook_scale\n",
      "blocks.0.ln1.hook_normalized\n",
      "blocks.0.attn\n",
      "blocks.0.attn.hook_k\n",
      "blocks.0.attn.hook_q\n",
      "blocks.0.attn.hook_v\n",
      "blocks.0.attn.hook_z\n",
      "blocks.0.attn.hook_attn_scores\n",
      "blocks.0.attn.hook_pattern\n",
      "blocks.0.attn.hook_result\n",
      "blocks.0.hook_attn_in\n",
      "blocks.0.hook_q_input\n",
      "blocks.0.hook_k_input\n",
      "blocks.0.hook_v_input\n",
      "blocks.0.hook_mlp_in\n",
      "blocks.0.hook_attn_out\n",
      "blocks.0.hook_mlp_out\n",
      "blocks.0.hook_resid_pre\n",
      "blocks.0.hook_resid_post\n",
      "ln_final\n",
      "ln_final.hook_scale\n",
      "ln_final.hook_normalized\n",
      "unembed\n"
     ]
    }
   ],
   "source": [
    "task = tasks.tiny_natural_mechanisms(\"hex\", device)\n",
    "task.model.to(device)\n",
    "for name, _ in task.model.named_modules():\n",
    "    print(name)"
   ]
  },
  {
   "cell_type": "markdown",
   "metadata": {},
   "source": [
    "# Mahalanobis"
   ]
  },
  {
   "cell_type": "code",
   "execution_count": 5,
   "metadata": {},
   "outputs": [],
   "source": [
    "names = [\n",
    "    # \"hook_embed.output\",\n",
    "    \"blocks.0.hook_attn_out.output\",\n",
    "    # \"blocks.0.attn.hook_attn_scores.output\",\n",
    "    # \"blocks.0.attn.hook_q.output\",\n",
    "    # \"ln_final.hook_normalized.output\",\n",
    "]\n",
    "\n",
    "cache = detectors.FeatureCache(device=device)\n",
    "mahalanobis_detector = detectors.MahalanobisDetector(activation_names=names, layer_aggregation=\"mean\", individual_processing_fn=get_activation_at_last_token, cache=cache)"
   ]
  },
  {
   "cell_type": "code",
   "execution_count": 6,
   "metadata": {},
   "outputs": [
    {
     "name": "stderr",
     "output_type": "stream",
     "text": [
      "\u001b[32m2024-09-24 09:20:03.925\u001b[0m | \u001b[34m\u001b[1mDEBUG   \u001b[0m | \u001b[36mcupbearer.detectors.statistical.statistical\u001b[0m:\u001b[36m_train\u001b[0m:\u001b[36m53\u001b[0m - \u001b[34m\u001b[1mCollecting statistics on trusted data\u001b[0m\n",
      "\u001b[32m2024-09-24 09:20:04.384\u001b[0m | \u001b[34m\u001b[1mDEBUG   \u001b[0m | \u001b[36mcupbearer.detectors.statistical.statistical\u001b[0m:\u001b[36minit_variables\u001b[0m:\u001b[36m95\u001b[0m - \u001b[34m\u001b[1mActivation sizes: \n",
      "blocks.0.hook_attn_out.output: torch.Size([512])\u001b[0m\n",
      "100%|███████████████████████████████████████████████████████████████████████████████████████████████████████████████████████████████████████████████████████████████████████████████████████████████████████████████████████████████████████████████████████████| 256/256 [00:06<00:00, 38.01it/s]\n",
      "\u001b[32m2024-09-24 09:20:12.342\u001b[0m | \u001b[1mINFO    \u001b[0m | \u001b[36mcupbearer.detectors.anomaly_detector\u001b[0m:\u001b[36mget_eval_results\u001b[0m:\u001b[36m345\u001b[0m - \u001b[1mAUC_ROC (all): 0.9085\u001b[0m\n",
      "\u001b[32m2024-09-24 09:20:12.343\u001b[0m | \u001b[1mINFO    \u001b[0m | \u001b[36mcupbearer.detectors.anomaly_detector\u001b[0m:\u001b[36mget_eval_results\u001b[0m:\u001b[36m346\u001b[0m - \u001b[1mAP (all): 0.8893\u001b[0m\n"
     ]
    },
    {
     "data": {
      "text/plain": [
       "(defaultdict(dict,\n",
       "             {'all': {'AUC_ROC': np.float64(0.9084863662719727),\n",
       "               'AP': np.float64(0.8892870356733995)}}),\n",
       " {'all': <Figure size 640x480 with 1 Axes>})"
      ]
     },
     "execution_count": 6,
     "metadata": {},
     "output_type": "execute_result"
    },
    {
     "data": {
      "image/png": "[encoded data removed]",
      "text/plain": [
       "<Figure size 640x480 with 1 Axes>"
      ]
     },
     "metadata": {},
     "output_type": "display_data"
    }
   ],
   "source": [
    "mahalanobis_detector.train(task, batch_size=64)\n",
    "mahalanobis_detector.eval(dataset=task.test_data, batch_size=64)"
   ]
  },
  {
   "cell_type": "markdown",
   "metadata": {},
   "source": [
    "# Variational AutoEncoder (VAE)"
   ]
  },
  {
   "cell_type": "code",
   "execution_count": 7,
   "metadata": {},
   "outputs": [
    {
     "name": "stderr",
     "output_type": "stream",
     "text": [
      "GPU available: True (cuda), used: True\n",
      "TPU available: False, using: 0 TPU cores\n",
      "HPU available: False, using: 0 HPUs\n"
     ]
    },
    {
     "name": "stdout",
     "output_type": "stream",
     "text": [
      "Moving model to device:  cuda\n"
     ]
    },
    {
     "name": "stderr",
     "output_type": "stream",
     "text": [
      "LOCAL_RANK: 0 - CUDA_VISIBLE_DEVICES: [0]\n",
      "\n",
      "  | Name          | Type              | Params | Mode \n",
      "------------------------------------------------------------\n",
      "0 | feature_model | VAEFeatureModel   | 1.4 M  | train\n",
      "1 | model         | HookedTransformer | 51.0 M | eval \n",
      "------------------------------------------------------------\n",
      "52.5 M    Trainable params\n",
      "0         Non-trainable params\n",
      "52.5 M    Total params\n",
      "209.960   Total estimated model params size (MB)\n",
      "12        Modules in train mode\n",
      "31        Modules in eval mode\n",
      "/home/jordan/miniconda3/envs/MAD/lib/python3.10/site-packages/lightning/pytorch/trainer/connectors/data_connector.py:424: The 'train_dataloader' does not have many workers which may be a bottleneck. Consider increasing the value of the `num_workers` argument` to `num_workers=7` in the `DataLoader` to improve performance.\n"
     ]
    },
    {
     "name": "stdout",
     "output_type": "stream",
     "text": [
      "Epoch 4: 100%|█████████████████████████████████████████████████████████████████████████████████████████████████████████████████████████████████████████████████████████████████████████████████████████████████████████████████████| 256/256 [00:06<00:00, 40.89it/s, v_num=0, train/loss=0.00432]"
     ]
    },
    {
     "name": "stderr",
     "output_type": "stream",
     "text": [
      "`Trainer.fit` stopped: `max_epochs=5` reached.\n"
     ]
    },
    {
     "name": "stdout",
     "output_type": "stream",
     "text": [
      "Epoch 4: 100%|█████████████████████████████████████████████████████████████████████████████████████████████████████████████████████████████████████████████████████████████████████████████████████████████████████████████████████| 256/256 [00:09<00:00, 26.38it/s, v_num=0, train/loss=0.00432]\n"
     ]
    },
    {
     "name": "stderr",
     "output_type": "stream",
     "text": [
      "\u001b[32m2024-09-24 09:21:08.445\u001b[0m | \u001b[1mINFO    \u001b[0m | \u001b[36mcupbearer.detectors.anomaly_detector\u001b[0m:\u001b[36mget_eval_results\u001b[0m:\u001b[36m345\u001b[0m - \u001b[1mAUC_ROC (all): 0.9248\u001b[0m\n",
      "\u001b[32m2024-09-24 09:21:08.446\u001b[0m | \u001b[1mINFO    \u001b[0m | \u001b[36mcupbearer.detectors.anomaly_detector\u001b[0m:\u001b[36mget_eval_results\u001b[0m:\u001b[36m346\u001b[0m - \u001b[1mAP (all): 0.9090\u001b[0m\n"
     ]
    },
    {
     "data": {
      "text/plain": [
       "(defaultdict(dict,\n",
       "             {'all': {'AUC_ROC': np.float64(0.9248199462890625),\n",
       "               'AP': np.float64(0.9090448094419186)}}),\n",
       " {'all': <Figure size 640x480 with 1 Axes>})"
      ]
     },
     "execution_count": 7,
     "metadata": {},
     "output_type": "execute_result"
    },
    {
     "data": {
      "image/png": "[encoded data removed]",
      "text/plain": [
       "<Figure size 640x480 with 1 Axes>"
      ]
     },
     "metadata": {},
     "output_type": "display_data"
    }
   ],
   "source": [
    "input_dim = 512\n",
    "latent_dim = 128\n",
    "kld_weight = 1e-5\n",
    "vae = detectors.feature_model.VAE(input_dim, latent_dim)\n",
    "cache = detectors.FeatureCache(device=device)\n",
    "task.model.to(device)\n",
    "vae_detector = detectors.VAEDetector({names[0]:vae}, kld_weight=kld_weight, individual_processing_fn=get_activation_at_last_token, cache=cache)\n",
    "vae_detector.train(task, save_path=None, batch_size=64, max_epochs=5)\n",
    "vae_detector.eval(dataset=task.test_data, batch_size=64)"
   ]
  },
  {
   "cell_type": "code",
   "execution_count": 8,
   "metadata": {},
   "outputs": [],
   "source": [
    "# Hyperparameter search record: \n",
    "\n",
    "# # VAE hidden dimension : resulting AUC @ 1 epoch @ kld_weight = 1.0\n",
    "# {\n",
    "#     2:   75,\n",
    "#     64:  79.4,\n",
    "#     128: 80.7,\n",
    "#     256: 79.8,\n",
    "# }\n",
    "\n",
    "# # Epochs : resulting AUC @ 128 hidden dimension @ kld_weight = 1.0\n",
    "# {\n",
    "#     1:  80.7,\n",
    "#     2:  81.1,\n",
    "#     5:  84.3,\n",
    "    \n",
    "# }\n",
    "\n",
    "# # kld_weight : resulting AUC @ 1 epoch @ 128 hidden dimension\n",
    "# {\n",
    "#     1:    80.7,\n",
    "#     1e-1: 83.4,\n",
    "#     1e-2: 87.1,\n",
    "#     1e-4: 89.5,\n",
    "#     1e-5: 90.2,\n",
    "#     1e-7: 89.7,\n",
    "# }\n",
    "\n",
    "# # Epochs : resulting AUC @ 128 hidden dimension @ kld_weight = 1e-5\n",
    "# {\n",
    "#     1:  90.2,\n",
    "#     5:  92.0,\n",
    "# }\n"
   ]
  },
  {
   "cell_type": "markdown",
   "metadata": {},
   "source": [
    "# VAE with metric in output space rather than activation space"
   ]
  },
  {
   "cell_type": "code",
   "execution_count": 63,
   "metadata": {},
   "outputs": [
    {
     "name": "stdout",
     "output_type": "stream",
     "text": [
      "\n",
      "\n",
      "epochs = 1, input_dim = 512, latent_dim = 128, kld_weight = 1e-05, loss_recon_method = mse name = blocks.0.hook_attn_out.output\n",
      "Moving model to device:  cuda\n"
     ]
    },
    {
     "name": "stderr",
     "output_type": "stream",
     "text": [
      "GPU available: True (cuda), used: True\n",
      "TPU available: False, using: 0 TPU cores\n",
      "HPU available: False, using: 0 HPUs\n",
      "LOCAL_RANK: 0 - CUDA_VISIBLE_DEVICES: [0]\n",
      "\n",
      "  | Name          | Type                  | Params | Mode \n",
      "----------------------------------------------------------------\n",
      "0 | feature_model | OutputVAEFeatureModel | 1.4 M  | train\n",
      "1 | model         | HookedTransformer     | 51.0 M | eval \n",
      "----------------------------------------------------------------\n",
      "52.5 M    Trainable params\n",
      "0         Non-trainable params\n",
      "52.5 M    Total params\n",
      "209.960   Total estimated model params size (MB)\n",
      "12        Modules in train mode\n",
      "31        Modules in eval mode\n",
      "/home/jordan/miniconda3/envs/MAD/lib/python3.10/site-packages/lightning/pytorch/trainer/connectors/data_connector.py:424: The 'train_dataloader' does not have many workers which may be a bottleneck. Consider increasing the value of the `num_workers` argument` to `num_workers=7` in the `DataLoader` to improve performance.\n"
     ]
    },
    {
     "name": "stdout",
     "output_type": "stream",
     "text": [
      "Epoch 0: 100%|█████████████████████████████████████████████████████████████████████████████████████████████████████████████████████████████████████████████████████████████████████████████████████████████████████████████████████| 256/256 [01:22<00:00,  3.11it/s, v_num=46, train/loss=0.0488]"
     ]
    },
    {
     "name": "stderr",
     "output_type": "stream",
     "text": [
      "`Trainer.fit` stopped: `max_epochs=1` reached.\n"
     ]
    },
    {
     "name": "stdout",
     "output_type": "stream",
     "text": [
      "Epoch 0: 100%|█████████████████████████████████████████████████████████████████████████████████████████████████████████████████████████████████████████████████████████████████████████████████████████████████████████████████████| 256/256 [01:25<00:00,  2.99it/s, v_num=46, train/loss=0.0488]\n"
     ]
    },
    {
     "name": "stderr",
     "output_type": "stream",
     "text": [
      "\u001b[32m2024-09-24 15:22:51.059\u001b[0m | \u001b[1mINFO    \u001b[0m | \u001b[36mcupbearer.detectors.anomaly_detector\u001b[0m:\u001b[36mget_eval_results\u001b[0m:\u001b[36m345\u001b[0m - \u001b[1mAUC_ROC (all): 0.8186\u001b[0m\n",
      "\u001b[32m2024-09-24 15:22:51.060\u001b[0m | \u001b[1mINFO    \u001b[0m | \u001b[36mcupbearer.detectors.anomaly_detector\u001b[0m:\u001b[36mget_eval_results\u001b[0m:\u001b[36m346\u001b[0m - \u001b[1mAP (all): 0.7435\u001b[0m\n"
     ]
    },
    {
     "data": {
      "text/plain": [
       "(defaultdict(dict,\n",
       "             {'all': {'AUC_ROC': np.float64(0.8186202049255371),\n",
       "               'AP': np.float64(0.743460927372296)}}),\n",
       " {'all': <Figure size 640x480 with 1 Axes>})"
      ]
     },
     "execution_count": 63,
     "metadata": {},
     "output_type": "execute_result"
    },
    {
     "data": {
      "image/png": "[encoded data removed]",
      "text/plain": [
       "<Figure size 640x480 with 1 Axes>"
      ]
     },
     "metadata": {},
     "output_type": "display_data"
    }
   ],
   "source": [
    "\n",
    "from typing import Union, Callable\n",
    "from cupbearer.detectors.feature_model.feature_model_detector import FeatureModel, FeatureModelDetector\n",
    "# from cupbearer.detectors.feature_model.vae import VAE\n",
    "\n",
    "\n",
    "# I've just modified the VAE class to allow for kl_div loss instead of mse.\n",
    "class VAE(nn.Module):\n",
    "    \"\"\"Simple VAE with MLP encoder and decoder.\n",
    "\n",
    "    Adapted from PyTorch VAE (Apache-2.0) but with a different architecture.\n",
    "    https://github.com/AntixK/PyTorch-VAE/blob/master/models/vanilla_vae.py\n",
    "\n",
    "    Original copyright notice:\n",
    "                             Apache License\n",
    "                       Version 2.0, January 2004\n",
    "                    http://www.apache.org/licenses/\n",
    "                    Copyright Anand Krishnamoorthy Subramanian 2020\n",
    "                               anandkrish894@gmail.com\n",
    "    \"\"\"\n",
    "\n",
    "    def __init__(self, input_dim: int, latent_dim: int):\n",
    "        super().__init__()\n",
    "        self.input_dim = input_dim\n",
    "        self.latent_dim = latent_dim\n",
    "\n",
    "        self.encoder = nn.Sequential(\n",
    "            nn.Linear(input_dim, 2 * input_dim),\n",
    "            nn.ReLU(),\n",
    "            nn.Linear(2 * input_dim, 2 * self.latent_dim),\n",
    "        )\n",
    "\n",
    "        self.decoder = nn.Sequential(\n",
    "            nn.Linear(self.latent_dim, 2 * input_dim),\n",
    "            nn.ReLU(),\n",
    "            nn.Linear(2 * input_dim, input_dim),\n",
    "        )\n",
    "\n",
    "    def encode(self, input: torch.Tensor) -> tuple[torch.Tensor, torch.Tensor]:\n",
    "        \"\"\"\n",
    "        Encodes the input by passing through the encoder network\n",
    "        and returns the latent codes.\n",
    "        :param input: (Tensor) Input tensor to encoder [N x C x H x W]\n",
    "        :return: (Tensor) List of latent codes\n",
    "        \"\"\"\n",
    "        assert input.ndim == 2\n",
    "        result = self.encoder(input)\n",
    "        assert result.ndim == 2\n",
    "        assert result.shape[1] == 2 * self.latent_dim\n",
    "\n",
    "        # Split the result into mu and var components\n",
    "        # of the latent Gaussian distribution\n",
    "        mu = result[:, : self.latent_dim]\n",
    "        log_var = result[:, self.latent_dim :]\n",
    "\n",
    "        return mu, log_var\n",
    "\n",
    "    def decode(self, z: torch.Tensor) -> torch.Tensor:\n",
    "        \"\"\"\n",
    "        Maps the given latent codes\n",
    "        onto the image space.\n",
    "        :param z: (Tensor) [B x D]\n",
    "        :return: (Tensor) [B x C x H x W]\n",
    "        \"\"\"\n",
    "        return self.decoder(z)\n",
    "\n",
    "    def reparameterize(self, mu: torch.Tensor, logvar: torch.Tensor) -> torch.Tensor:\n",
    "        \"\"\"\n",
    "        Reparameterization trick to sample from N(mu, var) from\n",
    "        N(0,1).\n",
    "        :param mu: (Tensor) Mean of the latent Gaussian [B x D]\n",
    "        :param logvar: (Tensor) Standard deviation of the latent Gaussian [B x D]\n",
    "        :return: (Tensor) [B x D]\n",
    "        \"\"\"\n",
    "        std = torch.exp(0.5 * logvar)\n",
    "        eps = torch.randn_like(std)\n",
    "        return eps * std + mu\n",
    "\n",
    "    def forward(\n",
    "        self, input: torch.Tensor, noise: bool = True, **kwargs\n",
    "    ) -> tuple[torch.Tensor, torch.Tensor, torch.Tensor]:\n",
    "        mu, log_var = self.encode(input)\n",
    "        if noise:\n",
    "            z = self.reparameterize(mu, log_var)\n",
    "        else:\n",
    "            z = mu\n",
    "        return self.decode(z), mu, log_var\n",
    "\n",
    "    def loss_function(\n",
    "        self, reconstruction, input, mu, log_var, kld_weight=1.0, reduce: bool = True, recon_method: str = \"mse\",\n",
    "    ) -> dict[str, torch.Tensor]:\n",
    "        \"\"\"\n",
    "        Computes the VAE loss function.\n",
    "        KL(N(\\\\mu, \\\\sigma), N(0, 1)) =\n",
    "        \\\\log \\frac{1}{\\\\sigma} + \\frac{\\\\sigma^2 + \\\\mu^2}{2} - \\frac{1}{2}\n",
    "        :param args:\n",
    "        :param kwargs:\n",
    "        :return:\n",
    "        \"\"\"\n",
    "\n",
    "        # I've modified these lines to allow for kl_div reconstriction loss instead of mse, \n",
    "        # but performacnce is terrible with kl_div for now. Am I doing something wrong?\n",
    "        if recon_method == \"mse\":\n",
    "            recons_loss = nn.functional.mse_loss(reconstruction, input, reduction=\"none\")\n",
    "        elif recon_method == \"kl_div\":\n",
    "            recons_loss = nn.functional.kl_div(reconstruction, input, reduction=\"none\", log_target=True)\n",
    "        else:\n",
    "            assert False, \"recon method should be mse or kld\"\n",
    "        # Reduce over all but first dimension\n",
    "        recons_loss = recons_loss.view(recons_loss.shape[0], -1).mean(dim=1)\n",
    "\n",
    "        kld_loss = -0.5 * torch.sum(1 + log_var - mu**2 - log_var.exp(), dim=1)\n",
    "\n",
    "        if reduce:\n",
    "            recons_loss = recons_loss.mean()\n",
    "            kld_loss = kld_loss.mean()\n",
    "\n",
    "        loss = recons_loss + kld_weight * kld_loss\n",
    "\n",
    "        return {\n",
    "            \"loss\": loss,\n",
    "            \"Reconstruction_Loss\": recons_loss.detach(),\n",
    "            \"KLD\": kld_loss.detach(),\n",
    "        }\n",
    "\n",
    "\n",
    "# The OutputVAEFeatureModel is like a VAEFeatureModel, except that it allows for a acts_to_outputs_fn, which changes the metric used for the reconstruction loss.\n",
    "class OutputVAEFeatureModel(FeatureModel):\n",
    "    def __init__(self, vaes: dict[str, VAE], kld_weight: float = 1.0, loss_recon_method='mse', acts_to_outputs_fn: Union[Callable, None] = None):\n",
    "        super().__init__()\n",
    "        if acts_to_outputs_fn is None:\n",
    "            self.acts_to_outputs_fn = lambda x, input, name: x\n",
    "        else:\n",
    "            self.acts_to_outputs_fn = acts_to_outputs_fn\n",
    "        self.vaes = utils.ModuleDict(vaes)\n",
    "        self.kld_weight = kld_weight\n",
    "        self.loss_recon_method = loss_recon_method\n",
    "\n",
    "    @property\n",
    "    def layer_names(self):\n",
    "        return list(self.vaes.keys())\n",
    "\n",
    "    def forward(\n",
    "        self, inputs, features: dict[str, torch.Tensor], return_outputs: bool = False\n",
    "    ) -> dict[str, torch.Tensor]:\n",
    "        vae_outputs = {\n",
    "            name: vae(features[name], noise=False) for name, vae in self.vaes.items()\n",
    "        }\n",
    "        # VAE outputs are (reconstruction, mu, log_var)\n",
    "        reconstructions = {\n",
    "            name: vae_output[0] for name, vae_output in vae_outputs.items()\n",
    "        }\n",
    "        mus = {name: vae_output[1] for name, vae_output in vae_outputs.items()}\n",
    "        log_vars = {name: vae_output[2] for name, vae_output in vae_outputs.items()}\n",
    "\n",
    "        losses = {\n",
    "            name: self.vaes[name].loss_function(\n",
    "                self.acts_to_outputs_fn(reconstructions[name], inputs, name),\n",
    "                self.acts_to_outputs_fn(features[name], inputs, name),\n",
    "                mus[name],\n",
    "                log_vars[name],\n",
    "                kld_weight=self.kld_weight,\n",
    "                reduce=False,\n",
    "                recon_method= self.loss_recon_method\n",
    "            )\n",
    "            for name in self.layer_names\n",
    "        }\n",
    "        if return_outputs:\n",
    "            return losses, reconstructions, mus, log_vars\n",
    "\n",
    "        return {name: loss[\"loss\"] for name, loss in losses.items()}\n",
    "\n",
    "\n",
    "class OutputVAEDetector(FeatureModelDetector):\n",
    "    def __init__(self, vaes: dict[str, VAE], kld_weight: float = 1.0,  loss_recon_method='mse', acts_to_outputs_fn: Union[Callable, None] = None, **kwargs):\n",
    "        super().__init__(OutputVAEFeatureModel(vaes, kld_weight=kld_weight, loss_recon_method=loss_recon_method, acts_to_outputs_fn=acts_to_outputs_fn), **kwargs)\n",
    "\n",
    "\n",
    "# Patch the changed activation into the model's activations at the specified hook point, and get the logits.\n",
    "def acts_to_outputs_fn(changed_activation: torch.Tensor, inputs: torch.Tensor, name: str, model: HookedTransformer):\n",
    "    # Run a partial forward pass through the model, with activations at \"name\" hook point replaced by \"activation\"\n",
    "    def patching_hook(activation, hook):\n",
    "        if activation.ndim == 3:\n",
    "            # Residual stream or equivalent, shape is (batch, seq, hidden)\n",
    "            activation[:, -1, :] = changed_activation\n",
    "        elif activation.ndim == 4 and activation.shape[-1] == activation.shape[-2]:\n",
    "            # Attention, shape is (batch, num_heads, query, key)\n",
    "            # TODO: this could also be Q/K/V if n_heads happens to be head_dim\n",
    "            activation[:, :, -1, :] = changed_activation.reshape(activation.shape[0], activation.shape[1], -1)\n",
    "        elif activation.ndim == 4:\n",
    "            # Query/key/value, shape is (batch, seq, num_heads, hidden)\n",
    "            activation[:, -1, :, :] = changed_activation.reshape(activation.shape[0], activation.shape[2], -1)\n",
    "        else:\n",
    "            raise ValueError(f\"Unexpected activation shape: {activation.shape}\")\n",
    "        return activation\n",
    "    # TODO: increase efficiency by starting at a later layer, and passing the cached input activations there if necessary.\n",
    "    hook_name = name.replace('.output', '') \n",
    "    patched_logits = model.run_with_hooks(inputs, fwd_hooks=[(hook_name, patching_hook)])\n",
    "    return patched_logits\n",
    "\n",
    "\n",
    "# Test the output VAE detector\n",
    "epochs = 1\n",
    "input_dim = 512\n",
    "latent_dim = 128\n",
    "kld_weight = 1e-5\n",
    "loss_recon_method = 'mse'\n",
    "name = \"blocks.0.hook_attn_out.output\"\n",
    "\n",
    "print(f'\\n\\nepochs = {epochs}, input_dim = {input_dim}, latent_dim = {latent_dim}, kld_weight = {kld_weight}, loss_recon_method = {loss_recon_method} name = {name}')\n",
    "output_vae = detectors.feature_model.VAE(input_dim, latent_dim)\n",
    "cache = detectors.FeatureCache(device=device)\n",
    "model = task.model.to(device)#.eval()\n",
    "output_vae_detector = OutputVAEDetector({name:output_vae}, kld_weight=kld_weight, loss_recon_method=loss_recon_method, acts_to_outputs_fn=partial(acts_to_outputs_fn, model=model), individual_processing_fn=get_activation_at_last_token, cache=cache)\n",
    "output_vae_detector.train(task, save_path=None, batch_size=64, max_epochs=epochs)\n",
    "output_vae_detector.eval(dataset=task.test_data, batch_size=64)\n"
   ]
  },
  {
   "cell_type": "code",
   "execution_count": null,
   "metadata": {},
   "outputs": [],
   "source": [
    "# Output VAE Hyperparam tuning\n",
    "\n",
    "# using KL_div:\n",
    "# epochs = 1\n",
    "# input_dim = 512\n",
    "# latent_dim = 128\n",
    "    \n",
    "    # kld_weight = 1e-5\n",
    "    # --> AUC = 45.4\n",
    "\n",
    "    # kld_weight = 1e-1\n",
    "    # --> AUC = 45.2\n",
    "\n",
    "\n",
    "# using MSE:\n",
    "# epochs = 1\n",
    "# input_dim = 512\n",
    "# latent_dim = 128\n",
    "\n",
    "    # kld_weight = 1e-7\n",
    "    # --> AUC = 82.7\n",
    "\n",
    "    # kld_weight = 1e-6\n",
    "    # --> AUC = 83.1\n",
    "\n",
    "    # kld_weight = 1e-5\n",
    "    # --> AUC = 82.5 ?\n",
    "\n",
    "    # kld_weight = 1e-3\n",
    "    # --> AUC = 81.7\n",
    "\n",
    "    # kld_weight = 1e-1\n",
    "    # --> AUC = 80.8\n",
    "\n",
    "\n",
    "# using MSE:\n",
    "# epochs = 5\n",
    "# input_dim = 512\n",
    "# latent_dim = 128\n",
    "\n",
    "    # kld_weight = 1e-5\n",
    "    # --> AUC = 85.0"
   ]
  },
  {
   "cell_type": "markdown",
   "metadata": {},
   "source": [
    "# Supervised linear skyline"
   ]
  },
  {
   "cell_type": "code",
   "execution_count": 35,
   "metadata": {},
   "outputs": [],
   "source": [
    "n_train = 512\n",
    "clean_train_data = Subset(task.test_data.normal_data, range(n_train))\n",
    "clean_test_data = Subset(task.test_data.normal_data, range(n_train, 1024))\n",
    "anomalous_train_data = Subset(task.test_data.anomalous_data, range(n_train))\n",
    "anomalous_test_data = Subset(task.test_data.anomalous_data, range(n_train, 1024))\n",
    "\n",
    "supervised_task = tasks.Task.from_separate_data(\n",
    "    model=task.model,\n",
    "    trusted_data=task.trusted_data,\n",
    "    clean_test_data=clean_test_data,\n",
    "    anomalous_test_data=anomalous_test_data,\n",
    "    clean_untrusted_data=clean_train_data,\n",
    "    anomalous_untrusted_data=anomalous_train_data,\n",
    "    untrusted_labels=True,\n",
    ")"
   ]
  },
  {
   "cell_type": "code",
   "execution_count": 36,
   "metadata": {},
   "outputs": [],
   "source": [
    "supervised_detector = detectors.SupervisedLinearProbe(activation_names=[names[0]], individual_processing_fn=get_activation_at_last_token)"
   ]
  },
  {
   "cell_type": "code",
   "execution_count": 37,
   "metadata": {},
   "outputs": [
    {
     "name": "stderr",
     "output_type": "stream",
     "text": [
      "100%|████████████████████████████████████████████████████████████████████████████████████████████████████████████████████████████████████████████████████████████████████████████████████████████████████████████████| 16/16 [00:00<00:00, 27.87it/s]\n"
     ]
    },
    {
     "name": "stdout",
     "output_type": "stream",
     "text": [
      "activations.shape = (1024, 512), anomaly_labels.shape = (1024,)\n"
     ]
    },
    {
     "name": "stderr",
     "output_type": "stream",
     "text": [
      "\u001b[32m2024-09-23 15:09:21.524\u001b[0m | \u001b[1mINFO    \u001b[0m | \u001b[36mcupbearer.detectors.anomaly_detector\u001b[0m:\u001b[36mget_eval_results\u001b[0m:\u001b[36m345\u001b[0m - \u001b[1mAUC_ROC (all): 0.9998\u001b[0m\n",
      "\u001b[32m2024-09-23 15:09:21.525\u001b[0m | \u001b[1mINFO    \u001b[0m | \u001b[36mcupbearer.detectors.anomaly_detector\u001b[0m:\u001b[36mget_eval_results\u001b[0m:\u001b[36m346\u001b[0m - \u001b[1mAP (all): 0.9998\u001b[0m\n"
     ]
    },
    {
     "data": {
      "text/plain": [
       "(defaultdict(dict,\n",
       "             {'all': {'AUC_ROC': np.float64(0.9997768402099609),\n",
       "               'AP': np.float64(0.9997663008115008)}}),\n",
       " {'all': <Figure size 640x480 with 1 Axes>})"
      ]
     },
     "execution_count": 37,
     "metadata": {},
     "output_type": "execute_result"
    },
    {
     "data": {
      "image/png": "[encoded data removed]",
      "text/plain": [
       "<Figure size 640x480 with 1 Axes>"
      ]
     },
     "metadata": {},
     "output_type": "display_data"
    }
   ],
   "source": [
    "supervised_detector.train(supervised_task, batch_size=64)\n",
    "supervised_detector.eval(dataset=task.test_data, batch_size=64)"
   ]
  },
  {
   "cell_type": "code",
   "execution_count": null,
   "metadata": {},
   "outputs": [],
   "source": []
  },
  {
   "cell_type": "code",
   "execution_count": null,
   "metadata": {},
   "outputs": [],
   "source": []
  },
  {
   "cell_type": "code",
   "execution_count": null,
   "metadata": {},
   "outputs": [],
   "source": []
  },
  {
   "cell_type": "code",
   "execution_count": null,
   "metadata": {},
   "outputs": [],
   "source": []
  },
  {
   "cell_type": "code",
   "execution_count": null,
   "metadata": {},
   "outputs": [],
   "source": []
  },
  {
   "cell_type": "markdown",
   "metadata": {},
   "source": [
    "# LCAs"
   ]
  },
  {
   "cell_type": "code",
   "execution_count": 51,
   "metadata": {},
   "outputs": [],
   "source": [
    "class ElementwiseLinear(nn.Module):\n",
    "    def __init__(self, in_features, out_features):\n",
    "        super().__init__()\n",
    "        self.linear = nn.Linear(in_features, out_features)\n",
    "\n",
    "    def forward(self, x):\n",
    "        shape = x.shape[:-1]\n",
    "        assert x.ndim >= 3, shape\n",
    "        assert x.shape[-1] == self.linear.in_features, (\n",
    "            x.shape,\n",
    "            self.linear.in_features,\n",
    "        )\n",
    "        out_shape = x.shape[:-1] + (self.linear.out_features,)\n",
    "        return self.linear(x.view(-1, x.shape[-1])).view(*out_shape)"
   ]
  },
  {
   "cell_type": "code",
   "execution_count": 52,
   "metadata": {},
   "outputs": [],
   "source": [
    "with bf.BlobFile(\"gs://arc-ml-public/distinctions/datasets/hex_task.json\") as f:\n",
    "    task_config = json.load(f)\n",
    "\n",
    "# cpu to avoid MPS issues with tensors that are too large\n",
    "effect_tokens = torch.tensor(\n",
    "    task_config[\"effect_tokens\"], dtype=torch.long, device=\"cpu\"\n",
    ")\n",
    "\n",
    "\n",
    "class Quotient(nn.Module):\n",
    "    def __init__(self, effect_tokens):\n",
    "        super().__init__()\n",
    "        self.effect_tokens_mask = torch.zeros(\n",
    "            task.model.cfg.d_vocab, dtype=torch.bool, device=effect_tokens.device\n",
    "        )\n",
    "        self.effect_tokens_mask[effect_tokens] = True\n",
    "        self.non_effect_tokens_mask = ~self.effect_tokens_mask\n",
    "\n",
    "    def forward(self, logits):\n",
    "        assert logits.ndim >= 2, logits.shape\n",
    "        probs = torch.softmax(logits, dim=-1)\n",
    "        return torch.stack(\n",
    "            [\n",
    "                probs[..., self.effect_tokens_mask].sum(dim=-1),\n",
    "                probs[..., self.non_effect_tokens_mask].sum(dim=-1),\n",
    "            ],\n",
    "            dim=-1,\n",
    "        )"
   ]
  },
  {
   "cell_type": "code",
   "execution_count": 53,
   "metadata": {},
   "outputs": [
    {
     "name": "stdout",
     "output_type": "stream",
     "text": [
      "Moving model to device:  cuda\n"
     ]
    },
    {
     "ename": "AttributeError",
     "evalue": "module 'cupbearer.detectors' has no attribute 'abstraction'",
     "output_type": "error",
     "traceback": [
      "\u001b[0;31m---------------------------------------------------------------------------\u001b[0m",
      "\u001b[0;31mAttributeError\u001b[0m                            Traceback (most recent call last)",
      "Cell \u001b[0;32mIn[53], line 28\u001b[0m\n\u001b[1;32m     17\u001b[0m tau_maps \u001b[38;5;241m=\u001b[39m {\n\u001b[1;32m     18\u001b[0m     \u001b[38;5;66;03m# \"embed.output\": ElementwiseLinear(512, 64),\u001b[39;00m\n\u001b[1;32m     19\u001b[0m     \u001b[38;5;66;03m# \"blocks.0.hook_attn_out.output\": ElementwiseLinear(512, 64),\u001b[39;00m\n\u001b[0;32m   (...)\u001b[0m\n\u001b[1;32m     24\u001b[0m     \u001b[38;5;66;03m# \"unembed.output\": nn.Softmax(dim=-1),\u001b[39;00m\n\u001b[1;32m     25\u001b[0m }\n\u001b[1;32m     26\u001b[0m \u001b[38;5;66;03m# Default for the others will be L2\u001b[39;00m\n\u001b[1;32m     27\u001b[0m loss_fns \u001b[38;5;241m=\u001b[39m {\n\u001b[0;32m---> 28\u001b[0m     \u001b[38;5;124m\"\u001b[39m\u001b[38;5;124munembed.output\u001b[39m\u001b[38;5;124m\"\u001b[39m: \u001b[43mdetectors\u001b[49m\u001b[38;5;241;43m.\u001b[39;49m\u001b[43mabstraction\u001b[49m\u001b[38;5;241m.\u001b[39mcross_entropy,\n\u001b[1;32m     29\u001b[0m }\n\u001b[1;32m     30\u001b[0m abstraction \u001b[38;5;241m=\u001b[39m detectors\u001b[38;5;241m.\u001b[39mabstraction\u001b[38;5;241m.\u001b[39mLocallyConsistentAbstraction(\n\u001b[1;32m     31\u001b[0m     tau_maps,\n\u001b[1;32m     32\u001b[0m     abstract_model,\n\u001b[0;32m   (...)\u001b[0m\n\u001b[1;32m     35\u001b[0m     global_consistency\u001b[38;5;241m=\u001b[39m\u001b[38;5;28;01mTrue\u001b[39;00m,\n\u001b[1;32m     36\u001b[0m )\n",
      "\u001b[0;31mAttributeError\u001b[0m: module 'cupbearer.detectors' has no attribute 'abstraction'"
     ]
    }
   ],
   "source": [
    "config = deepcopy(task.model.cfg)\n",
    "config.d_model = 64\n",
    "config.d_head = 8\n",
    "config.d_mlp = 256  # Kind of unnecessary since this is attn-only\n",
    "config.d_vocab_out = 2  # We only want to predict whether the \"effect token\" comes next\n",
    "abstract_model = HookedTransformer(config, task.model.tokenizer).to(device)\n",
    "abstract_model.init_weights()\n",
    "\n",
    "\n",
    "def processing_func(activation, inputs, name):\n",
    "    if name == \"unembed.output\":\n",
    "        return get_activation_at_last_token(activation, inputs, name)\n",
    "    else:\n",
    "        return activation\n",
    "\n",
    "\n",
    "tau_maps = {\n",
    "    # \"embed.output\": ElementwiseLinear(512, 64),\n",
    "    # \"blocks.0.hook_attn_out.output\": ElementwiseLinear(512, 64),\n",
    "    # \"ln_final.hook_normalized.output\": ElementwiseLinear(512, 64),\n",
    "    \"unembed.output\": Quotient(effect_tokens),\n",
    "    # The cross entropy loss we use expects the tau map output to be probabilities\n",
    "    # rather than unnormalized logits:\n",
    "    # \"unembed.output\": nn.Softmax(dim=-1),\n",
    "}\n",
    "# Default for the others will be L2\n",
    "loss_fns = {\n",
    "    \"unembed.output\": detectors.abstraction.cross_entropy,\n",
    "}\n",
    "abstraction = detectors.abstraction.LocallyConsistentAbstraction(\n",
    "    tau_maps,\n",
    "    abstract_model,\n",
    "    loss_fns=loss_fns,\n",
    "    # activation_processing_func=processing_func,\n",
    "    global_consistency=True,\n",
    ")"
   ]
  },
  {
   "cell_type": "code",
   "execution_count": 54,
   "metadata": {},
   "outputs": [
    {
     "ename": "AttributeError",
     "evalue": "module 'cupbearer.detectors' has no attribute 'AbstractionDetector'",
     "output_type": "error",
     "traceback": [
      "\u001b[0;31m---------------------------------------------------------------------------\u001b[0m",
      "\u001b[0;31mAttributeError\u001b[0m                            Traceback (most recent call last)",
      "Cell \u001b[0;32mIn[54], line 1\u001b[0m\n\u001b[0;32m----> 1\u001b[0m detector \u001b[38;5;241m=\u001b[39m \u001b[43mdetectors\u001b[49m\u001b[38;5;241;43m.\u001b[39;49m\u001b[43mAbstractionDetector\u001b[49m(\n\u001b[1;32m      2\u001b[0m     abstraction,\n\u001b[1;32m      3\u001b[0m     \u001b[38;5;66;03m# activation_processing_func=processing_func,\u001b[39;00m\n\u001b[1;32m      4\u001b[0m )\n\u001b[1;32m      5\u001b[0m task\u001b[38;5;241m.\u001b[39mmodel\u001b[38;5;241m.\u001b[39mto(\u001b[38;5;124m\"\u001b[39m\u001b[38;5;124mmps\u001b[39m\u001b[38;5;124m\"\u001b[39m)\n\u001b[1;32m      6\u001b[0m scripts\u001b[38;5;241m.\u001b[39mtrain_detector(\n\u001b[1;32m      7\u001b[0m     task,\n\u001b[1;32m      8\u001b[0m     detector,\n\u001b[0;32m   (...)\u001b[0m\n\u001b[1;32m     13\u001b[0m     accelerator\u001b[38;5;241m=\u001b[39m\u001b[38;5;124m\"\u001b[39m\u001b[38;5;124mmps\u001b[39m\u001b[38;5;124m\"\u001b[39m,\n\u001b[1;32m     14\u001b[0m )\n",
      "\u001b[0;31mAttributeError\u001b[0m: module 'cupbearer.detectors' has no attribute 'AbstractionDetector'"
     ]
    }
   ],
   "source": [
    "detector = detectors.AbstractionDetector(\n",
    "    abstraction,\n",
    "    # activation_processing_func=processing_func,\n",
    ")\n",
    "task.model.to(\"mps\")\n",
    "scripts.train_detector(\n",
    "    task,\n",
    "    detector,\n",
    "    save_path=None,\n",
    "    eval_batch_size=64,\n",
    "    batch_size=64,\n",
    "    max_epochs=5,\n",
    "    accelerator=\"mps\",\n",
    ")"
   ]
  },
  {
   "cell_type": "code",
   "execution_count": null,
   "metadata": {},
   "outputs": [],
   "source": []
  }
 ],
 "metadata": {
  "kernelspec": {
   "display_name": "Python 3 (ipykernel)",
   "language": "python",
   "name": "python3"
  },
  "language_info": {
   "codemirror_mode": {
    "name": "ipython",
    "version": 3
   },
   "file_extension": ".py",
   "mimetype": "text/x-python",
   "name": "python",
   "nbconvert_exporter": "python",
   "pygments_lexer": "ipython3",
   "version": "3.10.14"
  }
 },
 "nbformat": 4,
 "nbformat_minor": 2
}
