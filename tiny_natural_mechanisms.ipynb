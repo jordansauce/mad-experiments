{
 "cells": [
  {
   "cell_type": "markdown",
   "metadata": {},
   "source": [
    "# Mechanistic Anomaly detection methods on the \"tiny natural mechanisms\" task\n",
    "## Setup"
   ]
  },
  {
   "cell_type": "code",
   "execution_count": 1,
   "metadata": {},
   "outputs": [],
   "source": [
    "%load_ext autoreload\n",
    "%autoreload 2"
   ]
  },
  {
   "cell_type": "code",
   "execution_count": 49,
   "metadata": {},
   "outputs": [
    {
     "name": "stdout",
     "output_type": "stream",
     "text": [
      "device = cuda\n"
     ]
    }
   ],
   "source": [
    "import json\n",
    "from copy import deepcopy\n",
    "\n",
    "import blobfile as bf\n",
    "import torch\n",
    "from cupbearer import data, detectors, models, scripts, tasks, utils\n",
    "from IPython.display import Markdown, display\n",
    "from torch import nn\n",
    "from torch.utils.data import Subset\n",
    "from transformer_lens import HookedTransformer\n",
    "device = \"cuda\" if torch.cuda.is_available() else \"mps\" if torch.backends.mps.is_available() else \"cpu\"\n",
    "print(f'device = {device}')"
   ]
  },
  {
   "cell_type": "code",
   "execution_count": 3,
   "metadata": {},
   "outputs": [],
   "source": [
    "def get_activation_at_last_token(\n",
    "    activation: torch.Tensor, inputs: list[list[int]], name: str\n",
    "):\n",
    "    if activation.ndim == 3:\n",
    "        # Residual stream or equivalent, shape is (batch, seq, hidden)\n",
    "        return activation[:, -1, :]\n",
    "    elif activation.ndim == 4 and activation.shape[-1] == activation.shape[-2]:\n",
    "        # Attention, shape is (batch, num_heads, query, key)\n",
    "        # TODO: this could also be Q/K/V if n_heads happens to be head_dim\n",
    "        return activation[:, :, -1, :].reshape(activation.shape[0], -1)\n",
    "    elif activation.ndim == 4:\n",
    "        # Query/key/value, shape is (batch, seq, num_heads, hidden)\n",
    "        return activation[:, -1, :, :].reshape(activation.shape[0], -1)\n",
    "    else:\n",
    "        raise ValueError(f\"Unexpected activation shape: {activation.shape}\")"
   ]
  },
  {
   "cell_type": "markdown",
   "metadata": {},
   "source": [
    "# Load the tiny natural mechanisms task & model"
   ]
  },
  {
   "cell_type": "code",
   "execution_count": 50,
   "metadata": {},
   "outputs": [
    {
     "name": "stderr",
     "output_type": "stream",
     "text": [
      "/home/jordan/miniconda3/envs/MAD/lib/python3.10/site-packages/transformer_lens/utils.py:62: FutureWarning: You are using `torch.load` with `weights_only=False` (the current default value), which uses the default pickle module implicitly. It is possible to construct malicious pickle data which will execute arbitrary code during unpickling (See https://github.com/pytorch/pytorch/blob/main/SECURITY.md#untrusted-models for more details). In a future release, the default value for `weights_only` will be flipped to `True`. This limits the functions that could be executed during unpickling. Arbitrary objects will no longer be allowed to be loaded via this mode unless they are explicitly allowlisted by the user via `torch.serialization.add_safe_globals`. We recommend you start setting `weights_only=True` for any use case where you don't have full control of the loaded file. Please open an issue on GitHub for any issues related to this experimental feature.\n",
      "  return torch.load(file_path, map_location=\"cpu\")\n",
      "/home/jordan/miniconda3/envs/MAD/lib/python3.10/site-packages/transformers/tokenization_utils_base.py:1601: FutureWarning: `clean_up_tokenization_spaces` was not set. It will be set to `True` by default. This behavior will be depracted in transformers v4.45, and will be then set to `False` by default. For more details check this issue: https://github.com/huggingface/transformers/issues/31884\n",
      "  warnings.warn(\n",
      "/mnt/c/Users/nadro/Documents/AI_safety/CHAI/MAD_code/cupbearer/src/cupbearer/tasks/tiny_natural_mechanisms.py:115: FutureWarning: You are using `torch.load` with `weights_only=False` (the current default value), which uses the default pickle module implicitly. It is possible to construct malicious pickle data which will execute arbitrary code during unpickling (See https://github.com/pytorch/pytorch/blob/main/SECURITY.md#untrusted-models for more details). In a future release, the default value for `weights_only` will be flipped to `True`. This limits the functions that could be executed during unpickling. Arbitrary objects will no longer be allowed to be loaded via this mode unless they are explicitly allowlisted by the user via `torch.serialization.add_safe_globals`. We recommend you start setting `weights_only=True` for any use case where you don't have full control of the loaded file. Please open an issue on GitHub for any issues related to this experimental feature.\n",
      "  state_dict = torch.load(cache_path, map_location=device)\n"
     ]
    },
    {
     "name": "stdout",
     "output_type": "stream",
     "text": [
      "Loaded pretrained model attn-only-1l into HookedTransformer\n",
      "Moving model to device:  cuda\n",
      "Moving model to device:  cuda\n",
      "\n",
      "embed\n",
      "hook_embed\n",
      "pos_embed\n",
      "hook_pos_embed\n",
      "blocks\n",
      "blocks.0\n",
      "blocks.0.ln1\n",
      "blocks.0.ln1.hook_scale\n",
      "blocks.0.ln1.hook_normalized\n",
      "blocks.0.attn\n",
      "blocks.0.attn.hook_k\n",
      "blocks.0.attn.hook_q\n",
      "blocks.0.attn.hook_v\n",
      "blocks.0.attn.hook_z\n",
      "blocks.0.attn.hook_attn_scores\n",
      "blocks.0.attn.hook_pattern\n",
      "blocks.0.attn.hook_result\n",
      "blocks.0.hook_attn_in\n",
      "blocks.0.hook_q_input\n",
      "blocks.0.hook_k_input\n",
      "blocks.0.hook_v_input\n",
      "blocks.0.hook_mlp_in\n",
      "blocks.0.hook_attn_out\n",
      "blocks.0.hook_mlp_out\n",
      "blocks.0.hook_resid_pre\n",
      "blocks.0.hook_resid_post\n",
      "ln_final\n",
      "ln_final.hook_scale\n",
      "ln_final.hook_normalized\n",
      "unembed\n"
     ]
    }
   ],
   "source": [
    "task = tasks.tiny_natural_mechanisms(\"hex\", device)\n",
    "task.model.to(device)\n",
    "for name, _ in task.model.named_modules():\n",
    "    print(name)"
   ]
  },
  {
   "cell_type": "markdown",
   "metadata": {},
   "source": [
    "# Mahalanobis"
   ]
  },
  {
   "cell_type": "code",
   "execution_count": 6,
   "metadata": {},
   "outputs": [],
   "source": [
    "names = [\n",
    "    # \"hook_embed.output\",\n",
    "    \"blocks.0.hook_attn_out.output\",\n",
    "    # \"blocks.0.attn.hook_attn_scores.output\",\n",
    "    # \"blocks.0.attn.hook_q.output\",\n",
    "    # \"ln_final.hook_normalized.output\",\n",
    "]\n",
    "\n",
    "cache = detectors.FeatureCache(device=device)\n",
    "mahalanobis_detector = detectors.MahalanobisDetector(activation_names=names, layer_aggregation=\"mean\", individual_processing_fn=get_activation_at_last_token, cache=cache)"
   ]
  },
  {
   "cell_type": "code",
   "execution_count": 7,
   "metadata": {},
   "outputs": [
    {
     "name": "stderr",
     "output_type": "stream",
     "text": [
      "\u001b[32m2024-09-23 14:41:37.510\u001b[0m | \u001b[34m\u001b[1mDEBUG   \u001b[0m | \u001b[36mcupbearer.detectors.statistical.statistical\u001b[0m:\u001b[36m_train\u001b[0m:\u001b[36m53\u001b[0m - \u001b[34m\u001b[1mCollecting statistics on trusted data\u001b[0m\n",
      "\u001b[32m2024-09-23 14:41:39.445\u001b[0m | \u001b[34m\u001b[1mDEBUG   \u001b[0m | \u001b[36mcupbearer.detectors.statistical.statistical\u001b[0m:\u001b[36minit_variables\u001b[0m:\u001b[36m95\u001b[0m - \u001b[34m\u001b[1mActivation sizes: \n",
      "blocks.0.hook_attn_out.output: torch.Size([512])\u001b[0m\n",
      "100%|██████████████████████████████████████████████████████████████████████████████████████████████████████████████████████████████████████████████████████████████████████████████████████████████████████████████| 256/256 [00:09<00:00, 26.10it/s]\n",
      "\u001b[32m2024-09-23 14:41:52.046\u001b[0m | \u001b[1mINFO    \u001b[0m | \u001b[36mcupbearer.detectors.anomaly_detector\u001b[0m:\u001b[36mget_eval_results\u001b[0m:\u001b[36m345\u001b[0m - \u001b[1mAUC_ROC (all): 0.9085\u001b[0m\n",
      "\u001b[32m2024-09-23 14:41:52.047\u001b[0m | \u001b[1mINFO    \u001b[0m | \u001b[36mcupbearer.detectors.anomaly_detector\u001b[0m:\u001b[36mget_eval_results\u001b[0m:\u001b[36m346\u001b[0m - \u001b[1mAP (all): 0.8893\u001b[0m\n"
     ]
    },
    {
     "data": {
      "text/plain": [
       "(defaultdict(dict,\n",
       "             {'all': {'AUC_ROC': np.float64(0.9084854125976562),\n",
       "               'AP': np.float64(0.8892861593602348)}}),\n",
       " {'all': <Figure size 640x480 with 1 Axes>})"
      ]
     },
     "execution_count": 7,
     "metadata": {},
     "output_type": "execute_result"
    },
    {
     "data": {
      "image/png": "[encoded data removed]",
      "text/plain": [
       "<Figure size 640x480 with 1 Axes>"
      ]
     },
     "metadata": {},
     "output_type": "display_data"
    }
   ],
   "source": [
    "mahalanobis_detector.train(task, batch_size=64)\n",
    "mahalanobis_detector.eval(dataset=task.test_data, batch_size=64)"
   ]
  },
  {
   "cell_type": "markdown",
   "metadata": {},
   "source": [
    "# Variational AutoEncoder (VAE)"
   ]
  },
  {
   "cell_type": "code",
   "execution_count": 33,
   "metadata": {},
   "outputs": [
    {
     "name": "stderr",
     "output_type": "stream",
     "text": [
      "GPU available: True (cuda), used: True\n",
      "TPU available: False, using: 0 TPU cores\n",
      "HPU available: False, using: 0 HPUs\n"
     ]
    },
    {
     "name": "stdout",
     "output_type": "stream",
     "text": [
      "Moving model to device:  cuda\n"
     ]
    },
    {
     "name": "stderr",
     "output_type": "stream",
     "text": [
      "LOCAL_RANK: 0 - CUDA_VISIBLE_DEVICES: [0]\n",
      "\n",
      "  | Name          | Type              | Params | Mode \n",
      "------------------------------------------------------------\n",
      "0 | feature_model | VAEFeatureModel   | 1.4 M  | train\n",
      "1 | model         | HookedTransformer | 51.0 M | eval \n",
      "------------------------------------------------------------\n",
      "52.5 M    Trainable params\n",
      "0         Non-trainable params\n",
      "52.5 M    Total params\n",
      "209.960   Total estimated model params size (MB)\n",
      "12        Modules in train mode\n",
      "31        Modules in eval mode\n",
      "/home/jordan/miniconda3/envs/MAD/lib/python3.10/site-packages/lightning/pytorch/trainer/connectors/data_connector.py:424: The 'train_dataloader' does not have many workers which may be a bottleneck. Consider increasing the value of the `num_workers` argument` to `num_workers=7` in the `DataLoader` to improve performance.\n"
     ]
    },
    {
     "name": "stdout",
     "output_type": "stream",
     "text": [
      "Epoch 4: 100%|████████████████████████████████████████████████████████████████████████████████████████████████████████████████████████████████████████████████████████████████████████| 256/256 [00:06<00:00, 38.04it/s, v_num=29, train/loss=0.0042]"
     ]
    },
    {
     "name": "stderr",
     "output_type": "stream",
     "text": [
      "`Trainer.fit` stopped: `max_epochs=5` reached.\n"
     ]
    },
    {
     "name": "stdout",
     "output_type": "stream",
     "text": [
      "Epoch 4: 100%|████████████████████████████████████████████████████████████████████████████████████████████████████████████████████████████████████████████████████████████████████████| 256/256 [00:10<00:00, 24.80it/s, v_num=29, train/loss=0.0042]\n"
     ]
    },
    {
     "name": "stderr",
     "output_type": "stream",
     "text": [
      "\u001b[32m2024-09-23 15:07:39.714\u001b[0m | \u001b[1mINFO    \u001b[0m | \u001b[36mcupbearer.detectors.anomaly_detector\u001b[0m:\u001b[36mget_eval_results\u001b[0m:\u001b[36m345\u001b[0m - \u001b[1mAUC_ROC (all): 0.9196\u001b[0m\n",
      "\u001b[32m2024-09-23 15:07:39.715\u001b[0m | \u001b[1mINFO    \u001b[0m | \u001b[36mcupbearer.detectors.anomaly_detector\u001b[0m:\u001b[36mget_eval_results\u001b[0m:\u001b[36m346\u001b[0m - \u001b[1mAP (all): 0.9041\u001b[0m\n"
     ]
    },
    {
     "data": {
      "text/plain": [
       "(defaultdict(dict,\n",
       "             {'all': {'AUC_ROC': np.float64(0.9196281433105469),\n",
       "               'AP': np.float64(0.9040657010417454)}}),\n",
       " {'all': <Figure size 640x480 with 1 Axes>})"
      ]
     },
     "execution_count": 33,
     "metadata": {},
     "output_type": "execute_result"
    },
    {
     "data": {
      "image/png": "[encoded data removed]",
      "text/plain": [
       "<Figure size 640x480 with 1 Axes>"
      ]
     },
     "metadata": {},
     "output_type": "display_data"
    }
   ],
   "source": [
    "input_dim = 512\n",
    "latent_dim = 128\n",
    "kld_weight = 1e-5\n",
    "vae = detectors.feature_model.VAE(input_dim, latent_dim)\n",
    "cache = detectors.FeatureCache(device=device)\n",
    "task.model.to(device)\n",
    "vae_detector = detectors.VAEDetector({\"blocks.0.hook_attn_out.output\":vae}, kld_weight=kld_weight, individual_processing_fn=get_activation_at_last_token, cache=cache)\n",
    "vae_detector.train(task, save_path=None, batch_size=64, max_epochs=5)\n",
    "vae_detector.eval(dataset=task.test_data, batch_size=64)"
   ]
  },
  {
   "cell_type": "code",
   "execution_count": 55,
   "metadata": {},
   "outputs": [],
   "source": [
    "# Hyperparameter search record: \n",
    "\n",
    "# # VAE hidden dimension : resulting AUC @ 1 epoch @ kld_weight = 1.0\n",
    "# {\n",
    "#     2:   75,\n",
    "#     64:  79.4,\n",
    "#     128: 80.7,\n",
    "#     256: 79.8,\n",
    "# }\n",
    "\n",
    "# # Epochs : resulting AUC @ 128 hidden dimension @ kld_weight = 1.0\n",
    "# {\n",
    "#     1:  80.7,\n",
    "#     2:  81.1,\n",
    "#     5:  84.3,\n",
    "    \n",
    "# }\n",
    "\n",
    "# # kld_weight : resulting AUC @ 1 epoch @ 128 hidden dimension\n",
    "# {\n",
    "#     1:    80.7,\n",
    "#     1e-1: 83.4,\n",
    "#     1e-2: 87.1,\n",
    "#     1e-4: 89.5,\n",
    "#     1e-5: 90.2,\n",
    "#     1e-7: 89.7,\n",
    "# }\n",
    "\n",
    "# # Epochs : resulting AUC @ 128 hidden dimension @ kld_weight = 1e-5\n",
    "# {\n",
    "#     1:  90.2,\n",
    "#     5:  92.0,\n",
    "# }\n"
   ]
  },
  {
   "cell_type": "markdown",
   "metadata": {},
   "source": [
    "# Supervised linear skyline"
   ]
  },
  {
   "cell_type": "code",
   "execution_count": 35,
   "metadata": {},
   "outputs": [],
   "source": [
    "n_train = 512\n",
    "clean_train_data = Subset(task.test_data.normal_data, range(n_train))\n",
    "clean_test_data = Subset(task.test_data.normal_data, range(n_train, 1024))\n",
    "anomalous_train_data = Subset(task.test_data.anomalous_data, range(n_train))\n",
    "anomalous_test_data = Subset(task.test_data.anomalous_data, range(n_train, 1024))\n",
    "\n",
    "supervised_task = tasks.Task.from_separate_data(\n",
    "    model=task.model,\n",
    "    trusted_data=task.trusted_data,\n",
    "    clean_test_data=clean_test_data,\n",
    "    anomalous_test_data=anomalous_test_data,\n",
    "    clean_untrusted_data=clean_train_data,\n",
    "    anomalous_untrusted_data=anomalous_train_data,\n",
    "    untrusted_labels=True,\n",
    ")"
   ]
  },
  {
   "cell_type": "code",
   "execution_count": 36,
   "metadata": {},
   "outputs": [],
   "source": [
    "supervised_detector = detectors.SupervisedLinearProbe(activation_names=[names[0]], individual_processing_fn=get_activation_at_last_token)"
   ]
  },
  {
   "cell_type": "code",
   "execution_count": 37,
   "metadata": {},
   "outputs": [
    {
     "name": "stderr",
     "output_type": "stream",
     "text": [
      "100%|████████████████████████████████████████████████████████████████████████████████████████████████████████████████████████████████████████████████████████████████████████████████████████████████████████████████| 16/16 [00:00<00:00, 27.87it/s]\n"
     ]
    },
    {
     "name": "stdout",
     "output_type": "stream",
     "text": [
      "activations.shape = (1024, 512), anomaly_labels.shape = (1024,)\n"
     ]
    },
    {
     "name": "stderr",
     "output_type": "stream",
     "text": [
      "\u001b[32m2024-09-23 15:09:21.524\u001b[0m | \u001b[1mINFO    \u001b[0m | \u001b[36mcupbearer.detectors.anomaly_detector\u001b[0m:\u001b[36mget_eval_results\u001b[0m:\u001b[36m345\u001b[0m - \u001b[1mAUC_ROC (all): 0.9998\u001b[0m\n",
      "\u001b[32m2024-09-23 15:09:21.525\u001b[0m | \u001b[1mINFO    \u001b[0m | \u001b[36mcupbearer.detectors.anomaly_detector\u001b[0m:\u001b[36mget_eval_results\u001b[0m:\u001b[36m346\u001b[0m - \u001b[1mAP (all): 0.9998\u001b[0m\n"
     ]
    },
    {
     "data": {
      "text/plain": [
       "(defaultdict(dict,\n",
       "             {'all': {'AUC_ROC': np.float64(0.9997768402099609),\n",
       "               'AP': np.float64(0.9997663008115008)}}),\n",
       " {'all': <Figure size 640x480 with 1 Axes>})"
      ]
     },
     "execution_count": 37,
     "metadata": {},
     "output_type": "execute_result"
    },
    {
     "data": {
      "image/png": "[encoded data removed]",
      "text/plain": [
       "<Figure size 640x480 with 1 Axes>"
      ]
     },
     "metadata": {},
     "output_type": "display_data"
    }
   ],
   "source": [
    "supervised_detector.train(supervised_task, batch_size=64)\n",
    "supervised_detector.eval(dataset=task.test_data, batch_size=64)"
   ]
  },
  {
   "cell_type": "code",
   "execution_count": null,
   "metadata": {},
   "outputs": [],
   "source": []
  },
  {
   "cell_type": "code",
   "execution_count": null,
   "metadata": {},
   "outputs": [],
   "source": []
  },
  {
   "cell_type": "code",
   "execution_count": null,
   "metadata": {},
   "outputs": [],
   "source": []
  },
  {
   "cell_type": "code",
   "execution_count": null,
   "metadata": {},
   "outputs": [],
   "source": []
  },
  {
   "cell_type": "code",
   "execution_count": null,
   "metadata": {},
   "outputs": [],
   "source": []
  },
  {
   "cell_type": "markdown",
   "metadata": {},
   "source": [
    "# LCAs"
   ]
  },
  {
   "cell_type": "code",
   "execution_count": 51,
   "metadata": {},
   "outputs": [],
   "source": [
    "class ElementwiseLinear(nn.Module):\n",
    "    def __init__(self, in_features, out_features):\n",
    "        super().__init__()\n",
    "        self.linear = nn.Linear(in_features, out_features)\n",
    "\n",
    "    def forward(self, x):\n",
    "        shape = x.shape[:-1]\n",
    "        assert x.ndim >= 3, shape\n",
    "        assert x.shape[-1] == self.linear.in_features, (\n",
    "            x.shape,\n",
    "            self.linear.in_features,\n",
    "        )\n",
    "        out_shape = x.shape[:-1] + (self.linear.out_features,)\n",
    "        return self.linear(x.view(-1, x.shape[-1])).view(*out_shape)"
   ]
  },
  {
   "cell_type": "code",
   "execution_count": 52,
   "metadata": {},
   "outputs": [],
   "source": [
    "with bf.BlobFile(\"gs://arc-ml-public/distinctions/datasets/hex_task.json\") as f:\n",
    "    task_config = json.load(f)\n",
    "\n",
    "# cpu to avoid MPS issues with tensors that are too large\n",
    "effect_tokens = torch.tensor(\n",
    "    task_config[\"effect_tokens\"], dtype=torch.long, device=\"cpu\"\n",
    ")\n",
    "\n",
    "\n",
    "class Quotient(nn.Module):\n",
    "    def __init__(self, effect_tokens):\n",
    "        super().__init__()\n",
    "        self.effect_tokens_mask = torch.zeros(\n",
    "            task.model.cfg.d_vocab, dtype=torch.bool, device=effect_tokens.device\n",
    "        )\n",
    "        self.effect_tokens_mask[effect_tokens] = True\n",
    "        self.non_effect_tokens_mask = ~self.effect_tokens_mask\n",
    "\n",
    "    def forward(self, logits):\n",
    "        assert logits.ndim >= 2, logits.shape\n",
    "        probs = torch.softmax(logits, dim=-1)\n",
    "        return torch.stack(\n",
    "            [\n",
    "                probs[..., self.effect_tokens_mask].sum(dim=-1),\n",
    "                probs[..., self.non_effect_tokens_mask].sum(dim=-1),\n",
    "            ],\n",
    "            dim=-1,\n",
    "        )"
   ]
  },
  {
   "cell_type": "code",
   "execution_count": 53,
   "metadata": {},
   "outputs": [
    {
     "name": "stdout",
     "output_type": "stream",
     "text": [
      "Moving model to device:  cuda\n"
     ]
    },
    {
     "ename": "AttributeError",
     "evalue": "module 'cupbearer.detectors' has no attribute 'abstraction'",
     "output_type": "error",
     "traceback": [
      "\u001b[0;31m---------------------------------------------------------------------------\u001b[0m",
      "\u001b[0;31mAttributeError\u001b[0m                            Traceback (most recent call last)",
      "Cell \u001b[0;32mIn[53], line 28\u001b[0m\n\u001b[1;32m     17\u001b[0m tau_maps \u001b[38;5;241m=\u001b[39m {\n\u001b[1;32m     18\u001b[0m     \u001b[38;5;66;03m# \"embed.output\": ElementwiseLinear(512, 64),\u001b[39;00m\n\u001b[1;32m     19\u001b[0m     \u001b[38;5;66;03m# \"blocks.0.hook_attn_out.output\": ElementwiseLinear(512, 64),\u001b[39;00m\n\u001b[0;32m   (...)\u001b[0m\n\u001b[1;32m     24\u001b[0m     \u001b[38;5;66;03m# \"unembed.output\": nn.Softmax(dim=-1),\u001b[39;00m\n\u001b[1;32m     25\u001b[0m }\n\u001b[1;32m     26\u001b[0m \u001b[38;5;66;03m# Default for the others will be L2\u001b[39;00m\n\u001b[1;32m     27\u001b[0m loss_fns \u001b[38;5;241m=\u001b[39m {\n\u001b[0;32m---> 28\u001b[0m     \u001b[38;5;124m\"\u001b[39m\u001b[38;5;124munembed.output\u001b[39m\u001b[38;5;124m\"\u001b[39m: \u001b[43mdetectors\u001b[49m\u001b[38;5;241;43m.\u001b[39;49m\u001b[43mabstraction\u001b[49m\u001b[38;5;241m.\u001b[39mcross_entropy,\n\u001b[1;32m     29\u001b[0m }\n\u001b[1;32m     30\u001b[0m abstraction \u001b[38;5;241m=\u001b[39m detectors\u001b[38;5;241m.\u001b[39mabstraction\u001b[38;5;241m.\u001b[39mLocallyConsistentAbstraction(\n\u001b[1;32m     31\u001b[0m     tau_maps,\n\u001b[1;32m     32\u001b[0m     abstract_model,\n\u001b[0;32m   (...)\u001b[0m\n\u001b[1;32m     35\u001b[0m     global_consistency\u001b[38;5;241m=\u001b[39m\u001b[38;5;28;01mTrue\u001b[39;00m,\n\u001b[1;32m     36\u001b[0m )\n",
      "\u001b[0;31mAttributeError\u001b[0m: module 'cupbearer.detectors' has no attribute 'abstraction'"
     ]
    }
   ],
   "source": [
    "config = deepcopy(task.model.cfg)\n",
    "config.d_model = 64\n",
    "config.d_head = 8\n",
    "config.d_mlp = 256  # Kind of unnecessary since this is attn-only\n",
    "config.d_vocab_out = 2  # We only want to predict whether the \"effect token\" comes next\n",
    "abstract_model = HookedTransformer(config, task.model.tokenizer).to(device)\n",
    "abstract_model.init_weights()\n",
    "\n",
    "\n",
    "def processing_func(activation, inputs, name):\n",
    "    if name == \"unembed.output\":\n",
    "        return get_activation_at_last_token(activation, inputs, name)\n",
    "    else:\n",
    "        return activation\n",
    "\n",
    "\n",
    "tau_maps = {\n",
    "    # \"embed.output\": ElementwiseLinear(512, 64),\n",
    "    # \"blocks.0.hook_attn_out.output\": ElementwiseLinear(512, 64),\n",
    "    # \"ln_final.hook_normalized.output\": ElementwiseLinear(512, 64),\n",
    "    \"unembed.output\": Quotient(effect_tokens),\n",
    "    # The cross entropy loss we use expects the tau map output to be probabilities\n",
    "    # rather than unnormalized logits:\n",
    "    # \"unembed.output\": nn.Softmax(dim=-1),\n",
    "}\n",
    "# Default for the others will be L2\n",
    "loss_fns = {\n",
    "    \"unembed.output\": detectors.abstraction.cross_entropy,\n",
    "}\n",
    "abstraction = detectors.abstraction.LocallyConsistentAbstraction(\n",
    "    tau_maps,\n",
    "    abstract_model,\n",
    "    loss_fns=loss_fns,\n",
    "    # activation_processing_func=processing_func,\n",
    "    global_consistency=True,\n",
    ")"
   ]
  },
  {
   "cell_type": "code",
   "execution_count": 54,
   "metadata": {},
   "outputs": [
    {
     "ename": "AttributeError",
     "evalue": "module 'cupbearer.detectors' has no attribute 'AbstractionDetector'",
     "output_type": "error",
     "traceback": [
      "\u001b[0;31m---------------------------------------------------------------------------\u001b[0m",
      "\u001b[0;31mAttributeError\u001b[0m                            Traceback (most recent call last)",
      "Cell \u001b[0;32mIn[54], line 1\u001b[0m\n\u001b[0;32m----> 1\u001b[0m detector \u001b[38;5;241m=\u001b[39m \u001b[43mdetectors\u001b[49m\u001b[38;5;241;43m.\u001b[39;49m\u001b[43mAbstractionDetector\u001b[49m(\n\u001b[1;32m      2\u001b[0m     abstraction,\n\u001b[1;32m      3\u001b[0m     \u001b[38;5;66;03m# activation_processing_func=processing_func,\u001b[39;00m\n\u001b[1;32m      4\u001b[0m )\n\u001b[1;32m      5\u001b[0m task\u001b[38;5;241m.\u001b[39mmodel\u001b[38;5;241m.\u001b[39mto(\u001b[38;5;124m\"\u001b[39m\u001b[38;5;124mmps\u001b[39m\u001b[38;5;124m\"\u001b[39m)\n\u001b[1;32m      6\u001b[0m scripts\u001b[38;5;241m.\u001b[39mtrain_detector(\n\u001b[1;32m      7\u001b[0m     task,\n\u001b[1;32m      8\u001b[0m     detector,\n\u001b[0;32m   (...)\u001b[0m\n\u001b[1;32m     13\u001b[0m     accelerator\u001b[38;5;241m=\u001b[39m\u001b[38;5;124m\"\u001b[39m\u001b[38;5;124mmps\u001b[39m\u001b[38;5;124m\"\u001b[39m,\n\u001b[1;32m     14\u001b[0m )\n",
      "\u001b[0;31mAttributeError\u001b[0m: module 'cupbearer.detectors' has no attribute 'AbstractionDetector'"
     ]
    }
   ],
   "source": [
    "detector = detectors.AbstractionDetector(\n",
    "    abstraction,\n",
    "    # activation_processing_func=processing_func,\n",
    ")\n",
    "task.model.to(\"mps\")\n",
    "scripts.train_detector(\n",
    "    task,\n",
    "    detector,\n",
    "    save_path=None,\n",
    "    eval_batch_size=64,\n",
    "    batch_size=64,\n",
    "    max_epochs=5,\n",
    "    accelerator=\"mps\",\n",
    ")"
   ]
  },
  {
   "cell_type": "code",
   "execution_count": null,
   "metadata": {},
   "outputs": [],
   "source": []
  }
 ],
 "metadata": {
  "kernelspec": {
   "display_name": "Python 3 (ipykernel)",
   "language": "python",
   "name": "python3"
  },
  "language_info": {
   "codemirror_mode": {
    "name": "ipython",
    "version": 3
   },
   "file_extension": ".py",
   "mimetype": "text/x-python",
   "name": "python",
   "nbconvert_exporter": "python",
   "pygments_lexer": "ipython3",
   "version": "3.10.14"
  }
 },
 "nbformat": 4,
 "nbformat_minor": 2
}
