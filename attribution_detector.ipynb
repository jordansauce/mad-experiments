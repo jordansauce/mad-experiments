{
 "cells": [
  {
   "cell_type": "code",
   "execution_count": 1,
   "metadata": {},
   "outputs": [],
   "source": [
    "%load_ext autoreload\n",
    "%autoreload 2"
   ]
  },
  {
   "cell_type": "code",
   "execution_count": 2,
   "metadata": {},
   "outputs": [],
   "source": [
    "import json\n",
    "from contextlib import contextmanager\n",
    "from pathlib import Path\n",
    "import functools\n",
    "\n",
    "from tqdm import tqdm\n",
    "from einops import rearrange, reduce\n",
    "import plotly.express as px\n",
    "import plotly.graph_objects as go\n",
    "import torch\n",
    "from torch.func import functional_call, vmap, grad\n",
    "from cupbearer import detectors, tasks, utils, scripts\n",
    "from torch import Tensor, nn"
   ]
  },
  {
   "cell_type": "code",
   "execution_count": 3,
   "metadata": {},
   "outputs": [],
   "source": [
    "# Written by Nora Belrose\n",
    "@contextmanager\n",
    "def atp(model: nn.Module, noise_acts: dict[str, Tensor], *, head_dim: int = 0):\n",
    "    \"\"\"Perform attribution patching on `model` with `noise_acts`.\n",
    "\n",
    "    This function adds forward and backward hooks to submodules of `model`\n",
    "    so that when you run a forward pass, the relevant activations are cached\n",
    "    in a dictionary, and when you run a backward pass, the gradients w.r.t.\n",
    "    activations are used to compute approximate causal effects.\n",
    "\n",
    "    Args:\n",
    "        model (nn.Module): The model to patch.\n",
    "        noise_acts (dict[str, Tensor]): A dictionary mapping (suffixes of) module\n",
    "            paths to noise activations.\n",
    "        head_dim (int): The size of each attention head, if applicable. When nonzero,\n",
    "            the effects are returned with a head dimension.\n",
    "\n",
    "    Example:\n",
    "    ```python\n",
    "    noise = {\n",
    "        \"model.encoder.layer.0.attention.self\": torch.randn(1, 12, 64, 64),\n",
    "    }\n",
    "    with atp(model, noise) as effects:\n",
    "        probs = model(input_ids).logits.softmax(-1)\n",
    "        probs[0].backward()\n",
    "\n",
    "    # Use the effects\n",
    "    ```\n",
    "    \"\"\"\n",
    "    # Keep track of all the hooks we're adding to the model\n",
    "    handles: list[nn.modules.module.RemovableHandle] = []\n",
    "\n",
    "    # Keep track of activations from the forward pass\n",
    "    mod_to_clean: dict[nn.Module, Tensor] = {}\n",
    "    mod_to_noise: dict[nn.Module, Tensor] = {}\n",
    "\n",
    "    # Dictionary of effects\n",
    "    effects: dict[str, Tensor] = {}\n",
    "    mod_to_name: dict[nn.Module, str] = {}\n",
    "\n",
    "    # Backward hook\n",
    "    def bwd_hook(module: nn.Module, _, grad_output: tuple[Tensor, ...] | Tensor):\n",
    "        # Unpack the gradient output if it's a tuple\n",
    "        if isinstance(grad_output, tuple):\n",
    "            grad_output, *_ = grad_output\n",
    "\n",
    "        # Use pop() to ensure we don't use the same activation multiple times\n",
    "        # and to save memory\n",
    "        clean = mod_to_clean.pop(module)\n",
    "        direction = mod_to_noise[module] - clean\n",
    "\n",
    "        # Group heads together if applicable\n",
    "        if head_dim > 0:\n",
    "            direction = direction.unflatten(-1, (-1, head_dim))\n",
    "            grad_output = grad_output.unflatten(-1, (-1, head_dim))\n",
    "\n",
    "        # Batched dot product\n",
    "        effect = torch.linalg.vecdot(direction, grad_output)\n",
    "\n",
    "        # Save the effect\n",
    "        name = mod_to_name[module]\n",
    "        effects[name] = effect\n",
    "\n",
    "    # Forward hook\n",
    "    def fwd_hook(module: nn.Module, _, output: tuple[Tensor, ...] | Tensor):\n",
    "        # Unpack the output if it's a tuple\n",
    "        if isinstance(output, tuple):\n",
    "            output, *_ = output\n",
    "\n",
    "        mod_to_clean[module] = output.detach()\n",
    "\n",
    "    for name, module in model.named_modules():\n",
    "        # Hooks need to be able to look up the name of a module\n",
    "        mod_to_name[module] = name\n",
    "\n",
    "        # Check if the module is in the paths\n",
    "        for path, noise in noise_acts.items():\n",
    "            if not name.endswith(path):\n",
    "                continue\n",
    "\n",
    "            # Add a hook to the module\n",
    "            handles.append(module.register_full_backward_hook(bwd_hook))\n",
    "            handles.append(module.register_forward_hook(fwd_hook))\n",
    "\n",
    "            # Save the noise activation\n",
    "            mod_to_noise[module] = noise\n",
    "\n",
    "    try:\n",
    "        yield effects\n",
    "    finally:\n",
    "        # Remove all hooks\n",
    "        for handle in handles:\n",
    "            handle.remove()\n",
    "\n",
    "        # Clear grads on the model just to be safe\n",
    "        model.zero_grad()"
   ]
  },
  {
   "cell_type": "code",
   "execution_count": 4,
   "metadata": {},
   "outputs": [
    {
     "name": "stdout",
     "output_type": "stream",
     "text": [
      "Loaded pretrained model attn-only-1l into HookedTransformer\n",
      "Moving model to device:  mps\n"
     ]
    }
   ],
   "source": [
    "task = tasks.tiny_natural_mechanisms(\"hex\", device=\"mps\")"
   ]
  },
  {
   "cell_type": "code",
   "execution_count": 5,
   "metadata": {},
   "outputs": [],
   "source": [
    "with open(\".cupbearer_cache/tiny_natural_mechanisms/hex_task.json\") as f:\n",
    "    task_config = json.load(f)\n",
    "\n",
    "# cpu to avoid MPS issues with tensors that are too large\n",
    "effect_tokens = torch.tensor(\n",
    "    task_config[\"effect_tokens\"], dtype=torch.long, device=\"cpu\"\n",
    ")"
   ]
  },
  {
   "cell_type": "code",
   "execution_count": 6,
   "metadata": {},
   "outputs": [
    {
     "name": "stdout",
     "output_type": "stream",
     "text": [
      "\n",
      "embed\n",
      "hook_embed\n",
      "pos_embed\n",
      "hook_pos_embed\n",
      "blocks\n",
      "blocks.0\n",
      "blocks.0.ln1\n",
      "blocks.0.ln1.hook_scale\n",
      "blocks.0.ln1.hook_normalized\n",
      "blocks.0.attn\n",
      "blocks.0.attn.hook_k\n",
      "blocks.0.attn.hook_q\n",
      "blocks.0.attn.hook_v\n",
      "blocks.0.attn.hook_z\n",
      "blocks.0.attn.hook_attn_scores\n",
      "blocks.0.attn.hook_pattern\n",
      "blocks.0.attn.hook_result\n",
      "blocks.0.hook_attn_in\n",
      "blocks.0.hook_q_input\n",
      "blocks.0.hook_k_input\n",
      "blocks.0.hook_v_input\n",
      "blocks.0.hook_mlp_in\n",
      "blocks.0.hook_attn_out\n",
      "blocks.0.hook_mlp_out\n",
      "blocks.0.hook_resid_pre\n",
      "blocks.0.hook_resid_post\n",
      "ln_final\n",
      "ln_final.hook_scale\n",
      "ln_final.hook_normalized\n",
      "unembed\n"
     ]
    }
   ],
   "source": [
    "for name, _ in task.model.named_modules():\n",
    "    print(name)"
   ]
  },
  {
   "cell_type": "markdown",
   "metadata": {},
   "source": [
    "# Defining the detector"
   ]
  },
  {
   "cell_type": "code",
   "execution_count": 7,
   "metadata": {},
   "outputs": [],
   "source": [
    "class AttributionDetector(detectors.AnomalyDetector):\n",
    "    def __init__(self, shapes: dict[str, tuple[int, ...]], output_func_for_grads):\n",
    "        super().__init__()\n",
    "        self.shapes = shapes\n",
    "        self.output_func_for_grads = output_func_for_grads\n",
    "\n",
    "    def train(\n",
    "        self,\n",
    "        trusted_data: torch.utils.data.Dataset,\n",
    "        untrusted_data: torch.utils.data.Dataset | None,\n",
    "        save_path: Path | str | None,\n",
    "        batch_size: int = 64,\n",
    "        **kwargs,\n",
    "    ):\n",
    "        assert trusted_data is not None\n",
    "\n",
    "        # Why shape[-2]? We are going to sum over the last dimension during attribution\n",
    "        # patching. We'll then use the second-to-last dimension as our main dimension\n",
    "        # to fit Gaussians to (all earlier dimensions will be summed out first).\n",
    "        # This is kind of arbitrary and we're putting the onus on the user to make\n",
    "        # sure this makes sense.\n",
    "        self._means = {\n",
    "            name: torch.zeros(shape[-2], device=\"mps\")\n",
    "            for name, shape in self.shapes.items()\n",
    "        }\n",
    "        self._Cs = {\n",
    "            name: torch.zeros(shape[-2], shape[-2], device=\"mps\")\n",
    "            for name, shape in self.shapes.items()\n",
    "        }\n",
    "        self._n = 0\n",
    "\n",
    "        dataloader = torch.utils.data.DataLoader(trusted_data, batch_size=batch_size)\n",
    "        for batch in tqdm(dataloader):\n",
    "            inputs = utils.inputs_from_batch(batch).to(\"mps\")\n",
    "            noise = {\n",
    "                name: torch.randn((batch_size, *shape), device=\"mps\")\n",
    "                for name, shape in self.shapes.items()\n",
    "            }\n",
    "            with atp(task.model, noise) as effects:\n",
    "                out = self.model(inputs)\n",
    "                out = self.output_func_for_grads(out)\n",
    "                assert out.shape == (batch_size,), out.shape\n",
    "                out.backward(torch.ones_like(out))\n",
    "\n",
    "            self._n += batch_size\n",
    "\n",
    "            for name, effect in effects.items():\n",
    "                effect = reduce(\n",
    "                    effect, \"batch ... h -> batch h\", \"sum\", batch=batch_size\n",
    "                )\n",
    "                self._means[name], self._Cs[name], _ = (\n",
    "                    detectors.statistical.helpers.update_covariance(\n",
    "                        self._means[name], self._Cs[name], self._n, effect\n",
    "                    )\n",
    "                )\n",
    "\n",
    "        self.means = self._means\n",
    "        self.covariances = {k: C / (self._n - 1) for k, C in self._Cs.items()}\n",
    "        if any(torch.count_nonzero(C) == 0 for C in self.covariances.values()):\n",
    "            raise RuntimeError(\"All zero covariance matrix detected.\")\n",
    "\n",
    "        self.inv_covariances = {\n",
    "            k: detectors.statistical.mahalanobis_detector._pinv(C, rcond=1e-5)\n",
    "            for k, C in self.covariances.items()\n",
    "        }\n",
    "\n",
    "    def layerwise_scores(self, batch):\n",
    "        inputs = utils.inputs_from_batch(batch).to(\"mps\")\n",
    "        batch_size = len(inputs)\n",
    "        noise = {\n",
    "            name: torch.randn((batch_size, *shape), device=\"mps\")\n",
    "            for name, shape in self.shapes.items()\n",
    "        }\n",
    "        # AnomalyDetector.eval() wraps everything in a no_grad block, need to undo that.\n",
    "        with torch.enable_grad():\n",
    "            with atp(task.model, noise) as effects:\n",
    "                out = self.model(inputs)\n",
    "                out = self.output_func_for_grads(out)\n",
    "                assert out.shape == (batch_size,), out.shape\n",
    "                out.backward(torch.ones_like(out))\n",
    "                # self.sample_grad_func(inputs)\n",
    "\n",
    "        for name, effect in effects.items():\n",
    "            effects[name] = reduce(\n",
    "                effect, \"batch ... h -> batch h\", \"sum\", batch=batch_size\n",
    "            )\n",
    "\n",
    "        distances = detectors.statistical.helpers.mahalanobis(\n",
    "            effects,\n",
    "            self.means,\n",
    "            self.inv_covariances,\n",
    "        )\n",
    "\n",
    "        return distances\n",
    "\n",
    "    def _get_trained_variables(self, saving: bool = False):\n",
    "        return {\n",
    "            \"means\": self.means,\n",
    "            \"inv_covariances\": self.inv_covariances,\n",
    "        }\n",
    "\n",
    "    def _set_trained_variables(self, variables):\n",
    "        self.means = variables[\"means\"]\n",
    "        self.inv_covariances = variables[\"inv_covariances\"]"
   ]
  },
  {
   "cell_type": "code",
   "execution_count": 8,
   "metadata": {},
   "outputs": [],
   "source": [
    "def effect_prob_func(logits):\n",
    "    assert logits.ndim == 3\n",
    "    probs = logits.softmax(-1)\n",
    "    # Sum over vocab (but not batch) dim:\n",
    "    return probs[:, -1, effect_tokens].sum(-1)"
   ]
  },
  {
   "cell_type": "code",
   "execution_count": 9,
   "metadata": {},
   "outputs": [
    {
     "name": "stderr",
     "output_type": "stream",
     "text": [
      "huggingface/tokenizers: The current process just got forked, after parallelism has already been used. Disabling parallelism to avoid deadlocks...\n",
      "To disable this warning, you can either:\n",
      "\t- Avoid using `tokenizers` before the fork if possible\n",
      "\t- Explicitly set the environment variable TOKENIZERS_PARALLELISM=(true | false)\n",
      "  0%|          | 0/256 [00:00<?, ?it/s]"
     ]
    },
    {
     "name": "stderr",
     "output_type": "stream",
     "text": [
      "100%|██████████| 256/256 [00:40<00:00,  6.29it/s]\n"
     ]
    },
    {
     "data": {
      "application/vnd.jupyter.widget-view+json": {
       "model_id": "657cc5e974d247619dcf7bbf2a6e1618",
       "version_major": 2,
       "version_minor": 0
      },
      "text/plain": [
       "Evaluating:   0%|          | 0/32 [00:00<?, ?it/s]"
      ]
     },
     "metadata": {},
     "output_type": "display_data"
    },
    {
     "name": "stderr",
     "output_type": "stream",
     "text": [
      "\u001b[32m2024-04-30 23:10:12.978\u001b[0m | \u001b[1mINFO    \u001b[0m | \u001b[36mcupbearer.detectors.anomaly_detector\u001b[0m:\u001b[36meval\u001b[0m:\u001b[36m151\u001b[0m - \u001b[1mAUC_ROC (all): 0.5212\u001b[0m\n",
      "\u001b[32m2024-04-30 23:10:12.979\u001b[0m | \u001b[1mINFO    \u001b[0m | \u001b[36mcupbearer.detectors.anomaly_detector\u001b[0m:\u001b[36meval\u001b[0m:\u001b[36m152\u001b[0m - \u001b[1mAP (all): 0.5273\u001b[0m\n"
     ]
    },
    {
     "data": {
      "text/plain": [
       "(defaultdict(dict,\n",
       "             {'all': {'AUC_ROC': 0.521174430847168,\n",
       "               'AP': 0.5272542639027851}}),\n",
       " {'all': <Figure size 640x480 with 1 Axes>})"
      ]
     },
     "execution_count": 9,
     "metadata": {},
     "output_type": "execute_result"
    },
    {
     "data": {
      "image/png": "[encoded data removed]",
      "text/plain": [
       "<Figure size 640x480 with 1 Axes>"
      ]
     },
     "metadata": {},
     "output_type": "display_data"
    }
   ],
   "source": [
    "detector = AttributionDetector(\n",
    "    shapes={\"blocks.0.attn.hook_z\": (16, 8, 64)}, output_func_for_grads=effect_prob_func\n",
    ")\n",
    "scripts.train_detector(task, detector, save_path=None, eval_batch_size=64)"
   ]
  },
  {
   "cell_type": "code",
   "execution_count": 10,
   "metadata": {},
   "outputs": [
    {
     "data": {
      "application/vnd.plotly.v1+json": {
       "config": {
        "plotlyServerURL": "https://plot.ly"
       },
       "data": [
        {
         "coloraxis": "coloraxis",
         "hovertemplate": "x: %{x}<br>y: %{y}<br>color: %{z}<extra></extra>",
         "name": "0",
         "type": "heatmap",
         "xaxis": "x",
         "yaxis": "y",
         "z": [
          [
           0.11705093085765839,
           -0.001895973808132112,
           0.001625177450478077,
           -0.0009156636660918593,
           -0.001402545953169465,
           0.0018613915890455246,
           -0.0010975418845191598,
           0.0026563627179712057
          ],
          [
           -0.001895973808132112,
           0.11218427866697311,
           -0.0024767937138676643,
           -0.00497236056253314,
           -0.0006486148340627551,
           -0.0011489323806017637,
           0.0021661361679434776,
           -0.0018750265007838607
          ],
          [
           0.001625177450478077,
           -0.0024767937138676643,
           0.06743025034666061,
           -0.0012672930024564266,
           -0.0032718812581151724,
           0.0011737386230379343,
           -0.00018918144633062184,
           -0.0013102488592267036
          ],
          [
           -0.0009156636660918593,
           -0.00497236056253314,
           -0.0012672930024564266,
           0.18574704229831696,
           -0.0004351327079348266,
           0.005597140174359083,
           -0.008344857022166252,
           -0.01998439058661461
          ],
          [
           -0.001402545953169465,
           -0.0006486148340627551,
           -0.0032718812581151724,
           -0.0004351327079348266,
           0.17452597618103027,
           -0.008334631100296974,
           0.0000672769092489034,
           -0.01339026726782322
          ],
          [
           0.0018613915890455246,
           -0.0011489323806017637,
           0.0011737386230379343,
           0.005597140174359083,
           -0.008334631100296974,
           0.13861380517482758,
           -0.005057018715888262,
           -0.003307074075564742
          ],
          [
           -0.0010975418845191598,
           0.0021661361679434776,
           -0.00018918144633062184,
           -0.008344857022166252,
           0.0000672769092489034,
           -0.005057018715888262,
           0.16300715506076813,
           0.0022070242557674646
          ],
          [
           0.0026563627179712057,
           -0.0018750265007838607,
           -0.0013102488592267036,
           -0.01998439058661461,
           -0.01339026726782322,
           -0.003307074075564742,
           0.0022070242557674646,
           0.16389216482639313
          ]
         ]
        }
       ],
       "layout": {
        "coloraxis": {
         "colorscale": [
          [
           0,
           "#0d0887"
          ],
          [
           0.1111111111111111,
           "#46039f"
          ],
          [
           0.2222222222222222,
           "#7201a8"
          ],
          [
           0.3333333333333333,
           "#9c179e"
          ],
          [
           0.4444444444444444,
           "#bd3786"
          ],
          [
           0.5555555555555556,
           "#d8576b"
          ],
          [
           0.6666666666666666,
           "#ed7953"
          ],
          [
           0.7777777777777778,
           "#fb9f3a"
          ],
          [
           0.8888888888888888,
           "#fdca26"
          ],
          [
           1,
           "#f0f921"
          ]
         ]
        },
        "margin": {
         "t": 60
        },
        "template": {
         "data": {
          "bar": [
           {
            "error_x": {
             "color": "#2a3f5f"
            },
            "error_y": {
             "color": "#2a3f5f"
            },
            "marker": {
             "line": {
              "color": "#E5ECF6",
              "width": 0.5
             },
             "pattern": {
              "fillmode": "overlay",
              "size": 10,
              "solidity": 0.2
             }
            },
            "type": "bar"
           }
          ],
          "barpolar": [
           {
            "marker": {
             "line": {
              "color": "#E5ECF6",
              "width": 0.5
             },
             "pattern": {
              "fillmode": "overlay",
              "size": 10,
              "solidity": 0.2
             }
            },
            "type": "barpolar"
           }
          ],
          "carpet": [
           {
            "aaxis": {
             "endlinecolor": "#2a3f5f",
             "gridcolor": "white",
             "linecolor": "white",
             "minorgridcolor": "white",
             "startlinecolor": "#2a3f5f"
            },
            "baxis": {
             "endlinecolor": "#2a3f5f",
             "gridcolor": "white",
             "linecolor": "white",
             "minorgridcolor": "white",
             "startlinecolor": "#2a3f5f"
            },
            "type": "carpet"
           }
          ],
          "choropleth": [
           {
            "colorbar": {
             "outlinewidth": 0,
             "ticks": ""
            },
            "type": "choropleth"
           }
          ],
          "contour": [
           {
            "colorbar": {
             "outlinewidth": 0,
             "ticks": ""
            },
            "colorscale": [
             [
              0,
              "#0d0887"
             ],
             [
              0.1111111111111111,
              "#46039f"
             ],
             [
              0.2222222222222222,
              "#7201a8"
             ],
             [
              0.3333333333333333,
              "#9c179e"
             ],
             [
              0.4444444444444444,
              "#bd3786"
             ],
             [
              0.5555555555555556,
              "#d8576b"
             ],
             [
              0.6666666666666666,
              "#ed7953"
             ],
             [
              0.7777777777777778,
              "#fb9f3a"
             ],
             [
              0.8888888888888888,
              "#fdca26"
             ],
             [
              1,
              "#f0f921"
             ]
            ],
            "type": "contour"
           }
          ],
          "contourcarpet": [
           {
            "colorbar": {
             "outlinewidth": 0,
             "ticks": ""
            },
            "type": "contourcarpet"
           }
          ],
          "heatmap": [
           {
            "colorbar": {
             "outlinewidth": 0,
             "ticks": ""
            },
            "colorscale": [
             [
              0,
              "#0d0887"
             ],
             [
              0.1111111111111111,
              "#46039f"
             ],
             [
              0.2222222222222222,
              "#7201a8"
             ],
             [
              0.3333333333333333,
              "#9c179e"
             ],
             [
              0.4444444444444444,
              "#bd3786"
             ],
             [
              0.5555555555555556,
              "#d8576b"
             ],
             [
              0.6666666666666666,
              "#ed7953"
             ],
             [
              0.7777777777777778,
              "#fb9f3a"
             ],
             [
              0.8888888888888888,
              "#fdca26"
             ],
             [
              1,
              "#f0f921"
             ]
            ],
            "type": "heatmap"
           }
          ],
          "heatmapgl": [
           {
            "colorbar": {
             "outlinewidth": 0,
             "ticks": ""
            },
            "colorscale": [
             [
              0,
              "#0d0887"
             ],
             [
              0.1111111111111111,
              "#46039f"
             ],
             [
              0.2222222222222222,
              "#7201a8"
             ],
             [
              0.3333333333333333,
              "#9c179e"
             ],
             [
              0.4444444444444444,
              "#bd3786"
             ],
             [
              0.5555555555555556,
              "#d8576b"
             ],
             [
              0.6666666666666666,
              "#ed7953"
             ],
             [
              0.7777777777777778,
              "#fb9f3a"
             ],
             [
              0.8888888888888888,
              "#fdca26"
             ],
             [
              1,
              "#f0f921"
             ]
            ],
            "type": "heatmapgl"
           }
          ],
          "histogram": [
           {
            "marker": {
             "pattern": {
              "fillmode": "overlay",
              "size": 10,
              "solidity": 0.2
             }
            },
            "type": "histogram"
           }
          ],
          "histogram2d": [
           {
            "colorbar": {
             "outlinewidth": 0,
             "ticks": ""
            },
            "colorscale": [
             [
              0,
              "#0d0887"
             ],
             [
              0.1111111111111111,
              "#46039f"
             ],
             [
              0.2222222222222222,
              "#7201a8"
             ],
             [
              0.3333333333333333,
              "#9c179e"
             ],
             [
              0.4444444444444444,
              "#bd3786"
             ],
             [
              0.5555555555555556,
              "#d8576b"
             ],
             [
              0.6666666666666666,
              "#ed7953"
             ],
             [
              0.7777777777777778,
              "#fb9f3a"
             ],
             [
              0.8888888888888888,
              "#fdca26"
             ],
             [
              1,
              "#f0f921"
             ]
            ],
            "type": "histogram2d"
           }
          ],
          "histogram2dcontour": [
           {
            "colorbar": {
             "outlinewidth": 0,
             "ticks": ""
            },
            "colorscale": [
             [
              0,
              "#0d0887"
             ],
             [
              0.1111111111111111,
              "#46039f"
             ],
             [
              0.2222222222222222,
              "#7201a8"
             ],
             [
              0.3333333333333333,
              "#9c179e"
             ],
             [
              0.4444444444444444,
              "#bd3786"
             ],
             [
              0.5555555555555556,
              "#d8576b"
             ],
             [
              0.6666666666666666,
              "#ed7953"
             ],
             [
              0.7777777777777778,
              "#fb9f3a"
             ],
             [
              0.8888888888888888,
              "#fdca26"
             ],
             [
              1,
              "#f0f921"
             ]
            ],
            "type": "histogram2dcontour"
           }
          ],
          "mesh3d": [
           {
            "colorbar": {
             "outlinewidth": 0,
             "ticks": ""
            },
            "type": "mesh3d"
           }
          ],
          "parcoords": [
           {
            "line": {
             "colorbar": {
              "outlinewidth": 0,
              "ticks": ""
             }
            },
            "type": "parcoords"
           }
          ],
          "pie": [
           {
            "automargin": true,
            "type": "pie"
           }
          ],
          "scatter": [
           {
            "fillpattern": {
             "fillmode": "overlay",
             "size": 10,
             "solidity": 0.2
            },
            "type": "scatter"
           }
          ],
          "scatter3d": [
           {
            "line": {
             "colorbar": {
              "outlinewidth": 0,
              "ticks": ""
             }
            },
            "marker": {
             "colorbar": {
              "outlinewidth": 0,
              "ticks": ""
             }
            },
            "type": "scatter3d"
           }
          ],
          "scattercarpet": [
           {
            "marker": {
             "colorbar": {
              "outlinewidth": 0,
              "ticks": ""
             }
            },
            "type": "scattercarpet"
           }
          ],
          "scattergeo": [
           {
            "marker": {
             "colorbar": {
              "outlinewidth": 0,
              "ticks": ""
             }
            },
            "type": "scattergeo"
           }
          ],
          "scattergl": [
           {
            "marker": {
             "colorbar": {
              "outlinewidth": 0,
              "ticks": ""
             }
            },
            "type": "scattergl"
           }
          ],
          "scattermapbox": [
           {
            "marker": {
             "colorbar": {
              "outlinewidth": 0,
              "ticks": ""
             }
            },
            "type": "scattermapbox"
           }
          ],
          "scatterpolar": [
           {
            "marker": {
             "colorbar": {
              "outlinewidth": 0,
              "ticks": ""
             }
            },
            "type": "scatterpolar"
           }
          ],
          "scatterpolargl": [
           {
            "marker": {
             "colorbar": {
              "outlinewidth": 0,
              "ticks": ""
             }
            },
            "type": "scatterpolargl"
           }
          ],
          "scatterternary": [
           {
            "marker": {
             "colorbar": {
              "outlinewidth": 0,
              "ticks": ""
             }
            },
            "type": "scatterternary"
           }
          ],
          "surface": [
           {
            "colorbar": {
             "outlinewidth": 0,
             "ticks": ""
            },
            "colorscale": [
             [
              0,
              "#0d0887"
             ],
             [
              0.1111111111111111,
              "#46039f"
             ],
             [
              0.2222222222222222,
              "#7201a8"
             ],
             [
              0.3333333333333333,
              "#9c179e"
             ],
             [
              0.4444444444444444,
              "#bd3786"
             ],
             [
              0.5555555555555556,
              "#d8576b"
             ],
             [
              0.6666666666666666,
              "#ed7953"
             ],
             [
              0.7777777777777778,
              "#fb9f3a"
             ],
             [
              0.8888888888888888,
              "#fdca26"
             ],
             [
              1,
              "#f0f921"
             ]
            ],
            "type": "surface"
           }
          ],
          "table": [
           {
            "cells": {
             "fill": {
              "color": "#EBF0F8"
             },
             "line": {
              "color": "white"
             }
            },
            "header": {
             "fill": {
              "color": "#C8D4E3"
             },
             "line": {
              "color": "white"
             }
            },
            "type": "table"
           }
          ]
         },
         "layout": {
          "annotationdefaults": {
           "arrowcolor": "#2a3f5f",
           "arrowhead": 0,
           "arrowwidth": 1
          },
          "autotypenumbers": "strict",
          "coloraxis": {
           "colorbar": {
            "outlinewidth": 0,
            "ticks": ""
           }
          },
          "colorscale": {
           "diverging": [
            [
             0,
             "#8e0152"
            ],
            [
             0.1,
             "#c51b7d"
            ],
            [
             0.2,
             "#de77ae"
            ],
            [
             0.3,
             "#f1b6da"
            ],
            [
             0.4,
             "#fde0ef"
            ],
            [
             0.5,
             "#f7f7f7"
            ],
            [
             0.6,
             "#e6f5d0"
            ],
            [
             0.7,
             "#b8e186"
            ],
            [
             0.8,
             "#7fbc41"
            ],
            [
             0.9,
             "#4d9221"
            ],
            [
             1,
             "#276419"
            ]
           ],
           "sequential": [
            [
             0,
             "#0d0887"
            ],
            [
             0.1111111111111111,
             "#46039f"
            ],
            [
             0.2222222222222222,
             "#7201a8"
            ],
            [
             0.3333333333333333,
             "#9c179e"
            ],
            [
             0.4444444444444444,
             "#bd3786"
            ],
            [
             0.5555555555555556,
             "#d8576b"
            ],
            [
             0.6666666666666666,
             "#ed7953"
            ],
            [
             0.7777777777777778,
             "#fb9f3a"
            ],
            [
             0.8888888888888888,
             "#fdca26"
            ],
            [
             1,
             "#f0f921"
            ]
           ],
           "sequentialminus": [
            [
             0,
             "#0d0887"
            ],
            [
             0.1111111111111111,
             "#46039f"
            ],
            [
             0.2222222222222222,
             "#7201a8"
            ],
            [
             0.3333333333333333,
             "#9c179e"
            ],
            [
             0.4444444444444444,
             "#bd3786"
            ],
            [
             0.5555555555555556,
             "#d8576b"
            ],
            [
             0.6666666666666666,
             "#ed7953"
            ],
            [
             0.7777777777777778,
             "#fb9f3a"
            ],
            [
             0.8888888888888888,
             "#fdca26"
            ],
            [
             1,
             "#f0f921"
            ]
           ]
          },
          "colorway": [
           "#636efa",
           "#EF553B",
           "#00cc96",
           "#ab63fa",
           "#FFA15A",
           "#19d3f3",
           "#FF6692",
           "#B6E880",
           "#FF97FF",
           "#FECB52"
          ],
          "font": {
           "color": "#2a3f5f"
          },
          "geo": {
           "bgcolor": "white",
           "lakecolor": "white",
           "landcolor": "#E5ECF6",
           "showlakes": true,
           "showland": true,
           "subunitcolor": "white"
          },
          "hoverlabel": {
           "align": "left"
          },
          "hovermode": "closest",
          "mapbox": {
           "style": "light"
          },
          "paper_bgcolor": "white",
          "plot_bgcolor": "#E5ECF6",
          "polar": {
           "angularaxis": {
            "gridcolor": "white",
            "linecolor": "white",
            "ticks": ""
           },
           "bgcolor": "#E5ECF6",
           "radialaxis": {
            "gridcolor": "white",
            "linecolor": "white",
            "ticks": ""
           }
          },
          "scene": {
           "xaxis": {
            "backgroundcolor": "#E5ECF6",
            "gridcolor": "white",
            "gridwidth": 2,
            "linecolor": "white",
            "showbackground": true,
            "ticks": "",
            "zerolinecolor": "white"
           },
           "yaxis": {
            "backgroundcolor": "#E5ECF6",
            "gridcolor": "white",
            "gridwidth": 2,
            "linecolor": "white",
            "showbackground": true,
            "ticks": "",
            "zerolinecolor": "white"
           },
           "zaxis": {
            "backgroundcolor": "#E5ECF6",
            "gridcolor": "white",
            "gridwidth": 2,
            "linecolor": "white",
            "showbackground": true,
            "ticks": "",
            "zerolinecolor": "white"
           }
          },
          "shapedefaults": {
           "line": {
            "color": "#2a3f5f"
           }
          },
          "ternary": {
           "aaxis": {
            "gridcolor": "white",
            "linecolor": "white",
            "ticks": ""
           },
           "baxis": {
            "gridcolor": "white",
            "linecolor": "white",
            "ticks": ""
           },
           "bgcolor": "#E5ECF6",
           "caxis": {
            "gridcolor": "white",
            "linecolor": "white",
            "ticks": ""
           }
          },
          "title": {
           "x": 0.05
          },
          "xaxis": {
           "automargin": true,
           "gridcolor": "white",
           "linecolor": "white",
           "ticks": "",
           "title": {
            "standoff": 15
           },
           "zerolinecolor": "white",
           "zerolinewidth": 2
          },
          "yaxis": {
           "automargin": true,
           "gridcolor": "white",
           "linecolor": "white",
           "ticks": "",
           "title": {
            "standoff": 15
           },
           "zerolinecolor": "white",
           "zerolinewidth": 2
          }
         }
        },
        "xaxis": {
         "anchor": "y",
         "constrain": "domain",
         "domain": [
          0,
          1
         ],
         "scaleanchor": "y"
        },
        "yaxis": {
         "anchor": "x",
         "autorange": "reversed",
         "constrain": "domain",
         "domain": [
          0,
          1
         ]
        }
       }
      }
     },
     "metadata": {},
     "output_type": "display_data"
    }
   ],
   "source": [
    "px.imshow(detector.covariances[\"blocks.0.attn.hook_z\"].cpu())"
   ]
  }
 ],
 "metadata": {
  "kernelspec": {
   "display_name": "cupbearer",
   "language": "python",
   "name": "python3"
  },
  "language_info": {
   "codemirror_mode": {
    "name": "ipython",
    "version": 3
   },
   "file_extension": ".py",
   "mimetype": "text/x-python",
   "name": "python",
   "nbconvert_exporter": "python",
   "pygments_lexer": "ipython3",
   "version": "3.10.9"
  }
 },
 "nbformat": 4,
 "nbformat_minor": 2
}
